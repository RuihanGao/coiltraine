{
 "cells": [
  {
   "cell_type": "code",
   "execution_count": 1,
   "metadata": {},
   "outputs": [],
   "source": [
    "import numpy as np\n",
    "from matplotlib import pyplot as plt\n",
    "import seaborn as sns\n",
    "sns.set_context('notebook')\n",
    "from input import CoILDataset\n",
    "import pprint\n",
    "pp = pprint.PrettyPrinter(indent=2)"
   ]
  },
  {
   "cell_type": "code",
   "execution_count": 2,
   "metadata": {},
   "outputs": [],
   "source": [
    "dataset = CoILDataset('/home/eder/datasets/felipe_carla/5HoursW1-3-6-8/', None)"
   ]
  },
  {
   "cell_type": "code",
   "execution_count": 3,
   "metadata": {},
   "outputs": [
    {
     "name": "stdout",
     "output_type": "stream",
     "text": [
      "b'steer' 0\n",
      "b'throttle' 1\n",
      "b'brake' 2\n",
      "b'hand_brake' 3\n",
      "b'reverse_gear' 4\n",
      "b'steer_noise' 5\n",
      "b'gas_noise' 6\n",
      "b'brake_noise' 7\n",
      "b'x_position' 8\n",
      "b'y_position' 9\n",
      "b'speed_module' 10\n",
      "b'collision_other' 11\n",
      "b'collision_pedestrian' 12\n",
      "b'collision_vehicles' 13\n",
      "b'opposite_lane_intersection' 14\n",
      "b'sidewalk_intersection' 15\n",
      "b'acceleration_x' 16\n",
      "b'acceleration_y' 17\n",
      "b'acceleration_z' 18\n",
      "b'plataform_time' 19\n",
      "b'game_time' 20\n",
      "b'orientation_x' 21\n",
      "b'orientation_y' 22\n",
      "b'orientation_z' 23\n",
      "b'control' 24\n",
      "b'camera' 25\n",
      "b'angle' 26\n",
      "b'waypoint1_x' 27\n",
      "b'waypoint1_y' 28\n",
      "b'waypoint2_x' 29\n",
      "b'waypoint2_y' 30\n",
      "b'pedestrian' 31\n"
     ]
    }
   ],
   "source": [
    "meta_dict = {}\n",
    "for i, (key, _) in enumerate(dataset.meta_data):\n",
    "    if len(key) > 0:\n",
    "        print(key, i)\n",
    "        meta_dict[key] = i"
   ]
  },
  {
   "cell_type": "code",
   "execution_count": 4,
   "metadata": {},
   "outputs": [
    {
     "data": {
      "image/png": "[encoded data removed]",
      "text/plain": [
       "<Figure size 432x288 with 1 Axes>"
      ]
     },
     "metadata": {},
     "output_type": "display_data"
    }
   ],
   "source": [
    "s = dataset.measurements[meta_dict[b'speed_module']]\n",
    "_ = plt.hist(s)"
   ]
  },
  {
   "cell_type": "code",
   "execution_count": 5,
   "metadata": {},
   "outputs": [
    {
     "data": {
      "image/png": "[encoded data removed]",
      "text/plain": [
       "<Figure size 432x288 with 1 Axes>"
      ]
     },
     "metadata": {},
     "output_type": "display_data"
    }
   ],
   "source": [
    "s = dataset.measurements[meta_dict[b'steer']]\n",
    "_ = plt.hist(s)"
   ]
  },
  {
   "cell_type": "code",
   "execution_count": 6,
   "metadata": {},
   "outputs": [
    {
     "data": {
      "image/png": "[encoded data removed]",
      "text/plain": [
       "<Figure size 432x288 with 1 Axes>"
      ]
     },
     "metadata": {},
     "output_type": "display_data"
    }
   ],
   "source": [
    "s = dataset.measurements[meta_dict[b'throttle']]\n",
    "_ = plt.hist(s)"
   ]
  },
  {
   "cell_type": "code",
   "execution_count": 7,
   "metadata": {},
   "outputs": [
    {
     "data": {
      "image/png": "[encoded data removed]",
      "text/plain": [
       "<Figure size 432x288 with 1 Axes>"
      ]
     },
     "metadata": {},
     "output_type": "display_data"
    }
   ],
   "source": [
    "s = dataset.measurements[meta_dict[b'brake']]\n",
    "_ = plt.hist(s)"
   ]
  },
  {
   "cell_type": "code",
   "execution_count": 8,
   "metadata": {
    "scrolled": true
   },
   "outputs": [
    {
     "data": {
      "image/png": "[encoded data removed]",
      "text/plain": [
       "<Figure size 432x288 with 1 Axes>"
      ]
     },
     "metadata": {},
     "output_type": "display_data"
    }
   ],
   "source": [
    "s = dataset.measurements[meta_dict[b'control']]\n",
    "_ = plt.hist(s)"
   ]
  },
  {
   "cell_type": "code",
   "execution_count": 10,
   "metadata": {},
   "outputs": [],
   "source": [
    "# define ranges\n",
    "from progress.bar import Bar\n",
    "import sys\n",
    "bar = Bar('Progress', max=3*8*3*3*4)\n",
    "def full_split(dataset):\n",
    "    control = [[0, 2, 5], [3], [4]]\n",
    "    steering = np.cumsum([0, 0.05, 0.05, 0.1, 0.3, 0.3, 0.1, 0.05, 0.05])\n",
    "    throttle = [0, 0.1, 0.45, 1]\n",
    "    brake = [0, 0.1, 0.3, 0.5, 1]\n",
    "    speed = [0, 5, 15, 100]\n",
    "    keys = list()\n",
    "    \n",
    "    M = dataset.measurements\n",
    "    D = {}  # meta_dict\n",
    "    for i, (k, _) in enumerate(dataset.meta_data):\n",
    "        if len(k) > 0:\n",
    "            D[k] = i\n",
    "    counter = 0\n",
    "    for c in range(3):  # control\n",
    "        for s in range(len(steering)-1):  # steer\n",
    "            for t in range(len(throttle)-1): # throttle\n",
    "                for b in range(len(brake)-1): # brake\n",
    "                    for v in range(len(speed)-1): # speed\n",
    "                        true_c = [True, ] * M.shape[1]\n",
    "                        for vals in control[c]:\n",
    "                            true_c = np.logical_and(true_c, M[D[b'control']]==vals)\n",
    "                        # true_c = [m in control[c] for m in M[D[b'control']]]\n",
    "                        S = M[D[b'steer']]\n",
    "                        true_s = np.logical_and(S>=steering[s], S<steering[s+1])\n",
    "                        T = M[D[b'throttle']]\n",
    "                        true_t = np.logical_and(T>=throttle[t], T<throttle[t+1])\n",
    "                        B = M[D[b'brake']]\n",
    "                        true_b = np.logical_and(B>=brake[b], B<brake[b+1])\n",
    "                        V = M[D[b'speed_module']]\n",
    "                        true_v = np.logical_and(V>=speed[v], V<speed[v+1])\n",
    "                        k1 = np.logical_and(true_c, true_s)\n",
    "                        k2 = np.logical_and(true_t, true_b)\n",
    "                        k3 = np.logical_and(k1, k2)\n",
    "                        k = np.logical_and(k3, true_v)\n",
    "                        k = np.where(k)[0]\n",
    "                        counter += 1\n",
    "                        # bar.next()\n",
    "                        sys.stdout.write(\"{} \".format(counter))\n",
    "                        sys.stdout.flush()\n",
    "                        # keys.append(k)\n",
    "                        if len(k) > 0:\n",
    "                            this_d = {'keys': k, 'control': c, 'steer': s, 'throttle': t, 'brake': b, 'speed': v}\n",
    "                            keys.append(this_d)\n",
    "                        # print(counter)\n",
    "    keys.append({'keys': list(np.arange(M.shape[1])), 'control': np.inf, 'steer': np.inf, 'throttle': np.inf, 'brake': np.inf, 'speed': np.inf})\n",
    "    print('filter length: {}'.format(len(keys)))\n",
    "    return keys\n",
    "# bar.finish()"
   ]
  },
  {
   "cell_type": "code",
   "execution_count": 11,
   "metadata": {},
   "outputs": [
    {
     "name": "stdout",
     "output_type": "stream",
     "text": [
      "1 2 3 4 5 6 7 8 9 10 11 12 13 14 15 16 17 18 19 20 21 22 23 24 25 26 27 28 29 30 31 32 33 34 35 36 37 38 39 40 41 42 43 44 45 46 47 48 49 50 51 52 53 54 55 56 57 58 59 60 61 62 63 64 65 66 67 68 69 70 71 72 73 74 75 76 77 78 79 80 81 82 83 84 85 86 87 88 89 90 91 92 93 94 95 96 97 98 99 100 101 102 103 104 105 106 107 108 109 110 111 112 113 114 115 116 117 118 119 120 121 122 123 124 125 126 127 128 129 130 131 132 133 134 135 136 137 138 139 140 141 142 143 144 145 146 147 148 149 150 151 152 153 154 155 156 157 158 159 160 161 162 163 164 165 166 167 168 169 170 171 172 173 174 175 176 177 178 179 180 181 182 183 184 185 186 187 188 189 190 191 192 193 194 195 196 197 198 199 200 201 202 203 204 205 206 207 208 209 210 211 212 213 214 215 216 217 218 219 220 221 222 223 224 225 226 227 228 229 230 231 232 233 234 235 236 237 238 239 240 241 242 243 244 245 246 247 248 249 250 251 252 253 254 255 256 257 258 259 260 261 262 263 264 265 266 267 268 269 270 271 272 273 274 275 276 277 278 279 280 281 282 283 284 285 286 287 288 289 290 291 292 293 294 295 296 297 298 299 300 301 302 303 304 305 306 307 308 309 310 311 312 313 314 315 316 317 318 319 320 321 322 323 324 325 326 327 328 329 330 331 332 333 334 335 336 337 338 339 340 341 342 343 344 345 346 347 348 349 350 351 352 353 354 355 356 357 358 359 360 361 362 363 364 365 366 367 368 369 370 371 372 373 374 375 376 377 378 379 380 381 382 383 384 385 386 387 388 389 390 391 392 393 394 395 396 397 398 399 400 401 402 403 404 405 406 407 408 409 410 411 412 413 414 415 416 417 418 419 420 421 422 423 424 425 426 427 428 429 430 431 432 433 434 435 436 437 438 439 440 441 442 443 444 445 446 447 448 449 450 451 452 453 454 455 456 457 458 459 460 461 462 463 464 465 466 467 468 469 470 471 472 473 474 475 476 477 478 479 480 481 482 483 484 485 486 487 488 489 490 491 492 493 494 495 496 497 498 499 500 501 502 503 504 505 506 507 508 509 510 511 512 513 514 515 516 517 518 519 520 521 522 523 524 525 526 527 528 529 530 531 532 533 534 535 536 537 538 539 540 541 542 543 544 545 546 547 548 549 550 551 552 553 554 555 556 557 558 559 560 561 562 563 564 565 566 567 568 569 570 571 572 573 574 575 576 577 578 579 580 581 582 583 584 585 586 587 588 589 590 591 592 593 594 595 596 597 598 599 600 601 602 603 604 605 606 607 608 609 610 611 612 613 614 615 616 617 618 619 620 621 622 623 624 625 626 627 628 629 630 631 632 633 634 635 636 637 638 639 640 641 642 643 644 645 646 647 648 649 650 651 652 653 654 655 656 657 658 659 660 661 662 663 664 665 666 667 668 669 670 671 672 673 674 675 676 677 678 679 680 681 682 683 684 685 686 687 688 689 690 691 692 693 694 695 696 697 698 699 700 701 702 703 704 705 706 707 708 709 710 711 712 713 714 715 716 717 718 719 720 721 722 723 724 725 726 727 728 729 730 731 732 733 734 735 736 737 738 739 740 741 742 743 744 745 746 747 748 749 750 751 752 753 754 755 756 757 758 759 760 761 762 763 764 765 766 767 768 769 770 771 772 773 774 775 776 777 778 779 780 781 782 783 784 785 786 787 788 789 790 791 792 793 794 795 796 797 798 799 800 801 802 803 804 805 806 807 808 809 810 811 812 813 814 815 816 817 818 819 820 821 822 823 824 825 826 827 828 829 830 831 832 833 834 835 836 837 838 839 840 841 842 843 844 845 846 847 848 849 850 851 852 853 854 855 856 857 858 859 860 861 862 863 864 filter length: 190\n"
     ]
    }
   ],
   "source": [
    "keys = full_split(dataset)"
   ]
  },
  {
   "cell_type": "code",
   "execution_count": 11,
   "metadata": {},
   "outputs": [],
   "source": [
    "from input.coil_sampler import PreSplittedSampler, LogitSplittedSampler"
   ]
  },
  {
   "cell_type": "code",
   "execution_count": 16,
   "metadata": {},
   "outputs": [],
   "source": [
    "# w is a global ref\n",
    "w = np.ones(len(keys))\n",
    "PSS = LogitSplittedSampler(keys, 100, w)"
   ]
  },
  {
   "cell_type": "code",
   "execution_count": 17,
   "metadata": {},
   "outputs": [
    {
     "data": {
      "text/plain": [
       "tensor([ 1.,  1.,  1.,  1.,  1.,  1.,  1.,  1.,  1.,  1.,  1.,  1.,\n",
       "         1.,  1.,  1.,  1.,  1.,  1.,  1.,  1.,  1.,  1.,  1.,  1.,\n",
       "         1.,  1.,  1.,  1.,  1.,  1.,  1.,  1.,  1.,  1.,  1.,  1.,\n",
       "         1.,  1.,  1.,  1.,  1.,  1.,  1.,  1.,  1.,  1.,  1.,  1.,\n",
       "         1.,  1.,  1.,  1.,  1.,  1.,  1.,  1.,  1.,  1.,  1.,  1.,\n",
       "         1.,  1.,  1.,  1.,  1.,  1.,  1.,  1.,  1.,  1.,  1.,  1.,\n",
       "         1.,  1.,  1.,  1.,  1.,  1.,  1.,  1.,  1.,  1.,  1.,  1.,\n",
       "         1.,  1.,  1.,  1.,  1.,  1.,  1.,  1.,  1.,  1.,  1.,  1.,\n",
       "         1.,  1.,  1.,  1.,  1.,  1.,  1.,  1.,  1.,  1.,  1.,  1.,\n",
       "         1.,  1.,  1.,  1.,  1.,  1.,  1.,  1.,  1.,  1.,  1.,  1.,\n",
       "         1.,  1.,  1.,  1.,  1.,  1.,  1.,  1.,  1.,  1.,  1.,  1.,\n",
       "         1.,  1.,  1.,  1.,  1.,  1.,  1.,  1.,  1.,  1.,  1.,  1.,\n",
       "         1.,  1.,  1.,  1.,  1.,  1.,  1.,  1.,  1.,  1.,  1.,  1.,\n",
       "         1.,  1.,  1.,  1.,  1.,  1.,  1.,  1.,  1.,  1.,  1.,  1.,\n",
       "         1.,  1.,  1.,  1.,  1.,  1.,  1.,  1.,  1.,  1.,  1.,  1.,\n",
       "         1.,  1.,  1.,  1.,  1.,  1.,  1.,  1.,  1.,  1.], dtype=torch.float64)"
      ]
     },
     "execution_count": 17,
     "metadata": {},
     "output_type": "execute_result"
    }
   ],
   "source": [
    "PSS.weights"
   ]
  },
  {
   "cell_type": "code",
   "execution_count": 18,
   "metadata": {},
   "outputs": [],
   "source": [
    "PSS.update_weights(-.01, perturb=.0001)"
   ]
  },
  {
   "cell_type": "code",
   "execution_count": 19,
   "metadata": {},
   "outputs": [
    {
     "data": {
      "text/plain": [
       "tensor([ 0.9901,  0.9900,  0.9898,  0.9900,  0.9899,  0.9899,  0.9902,\n",
       "         0.9902,  0.9900,  0.9899,  0.9900,  0.9899,  0.9901,  0.9900,\n",
       "         0.9900,  0.9900,  0.9901,  0.9899,  0.9900,  0.9900,  0.9900,\n",
       "         0.9899,  0.9900,  0.9900,  0.9900,  0.9900,  0.9900,  0.9900,\n",
       "         0.9901,  0.9902,  0.9901,  0.9899,  0.9900,  0.9902,  0.9900,\n",
       "         0.9898,  0.9902,  0.9902,  0.9901,  0.9901,  0.9900,  0.9899,\n",
       "         0.9900,  0.9898,  0.9900,  0.9901,  0.9901,  0.9901,  0.9901,\n",
       "         0.9900,  0.9899,  0.9899,  0.9899,  0.9898,  0.9899,  0.9901,\n",
       "         0.9900,  0.9900,  0.9901,  0.9901,  0.9899,  0.9901,  0.9900,\n",
       "         0.9900,  0.9900,  0.9900,  0.9901,  0.9900,  0.9901,  0.9899,\n",
       "         0.9899,  0.9900,  0.9900,  0.9901,  0.9900,  0.9901,  0.9899,\n",
       "         0.9900,  0.9900,  0.9900,  0.9900,  0.9899,  0.9899,  0.9900,\n",
       "         0.9902,  0.9900,  0.9899,  0.9900,  0.9901,  0.9900,  0.9899,\n",
       "         0.9899,  0.9901,  0.9898,  0.9900,  0.9902,  0.9901,  0.9901,\n",
       "         0.9901,  0.9900,  0.9898,  0.9900,  0.9900,  0.9899,  0.9900,\n",
       "         0.9901,  0.9901,  0.9902,  0.9900,  0.9899,  0.9898,  0.9898,\n",
       "         0.9898,  0.9901,  0.9900,  0.9899,  0.9898,  0.9900,  0.9899,\n",
       "         0.9899,  0.9899,  0.9901,  0.9901,  0.9901,  0.9901,  0.9900,\n",
       "         0.9899,  0.9901,  0.9901,  0.9900,  0.9900,  0.9900,  0.9898,\n",
       "         0.9901,  0.9899,  0.9899,  0.9898,  0.9900,  0.9899,  0.9901,\n",
       "         0.9900,  0.9900,  0.9899,  0.9901,  0.9901,  0.9901,  0.9899,\n",
       "         0.9900,  0.9900,  0.9901,  0.9899,  0.9899,  0.9899,  0.9900,\n",
       "         0.9898,  0.9900,  0.9901,  0.9900,  0.9902,  0.9899,  0.9898,\n",
       "         0.9901,  0.9901,  0.9901,  0.9899,  0.9899,  0.9900,  0.9900,\n",
       "         0.9900,  0.9900,  0.9900,  0.9903,  0.9901,  0.9899,  0.9901,\n",
       "         0.9902,  0.9900,  0.9899,  0.9900,  0.9902,  0.9901,  0.9901,\n",
       "         0.9901,  0.9900,  0.9901,  0.9899,  0.9898,  0.9902,  0.9900,\n",
       "         0.9900], dtype=torch.float64)"
      ]
     },
     "execution_count": 19,
     "metadata": {},
     "output_type": "execute_result"
    }
   ],
   "source": [
    "PSS.weights"
   ]
  },
  {
   "cell_type": "code",
   "execution_count": null,
   "metadata": {},
   "outputs": [],
   "source": []
  }
 ],
 "metadata": {
  "kernelspec": {
   "display_name": "Python [conda env:t1]",
   "language": "python",
   "name": "conda-env-t1-py"
  },
  "language_info": {
   "codemirror_mode": {
    "name": "ipython",
    "version": 3
   },
   "file_extension": ".py",
   "mimetype": "text/x-python",
   "name": "python",
   "nbconvert_exporter": "python",
   "pygments_lexer": "ipython3",
   "version": "3.6.5"
  }
 },
 "nbformat": 4,
 "nbformat_minor": 2
}
