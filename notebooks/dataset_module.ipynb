{
 "cells": [
  {
   "cell_type": "code",
   "execution_count": 1,
   "metadata": {},
   "outputs": [
    {
     "name": "stdout",
     "output_type": "stream",
     "text": [
      "Populating the interactive namespace from numpy and matplotlib\n"
     ]
    }
   ],
   "source": [
    "%pylab inline\n",
    "import numpy as np\n",
    "from matplotlib import pyplot as plt\n",
    "from input import CoILDataset\n",
    "from tqdm import tqdm\n",
    "import pprint\n",
    "from ipywidgets import interact\n",
    "import numpy as n\n",
    "from scipy.misc import imread\n",
    "pp = pprint.PrettyPrinter(indent=2)"
   ]
  },
  {
   "cell_type": "code",
   "execution_count": 2,
   "metadata": {
    "scrolled": true
   },
   "outputs": [
    {
     "name": "stdout",
     "output_type": "stream",
     "text": [
      " Episodes list \n",
      "Episode  /mnt/parallel/CARLA/CARLA100/episode_00648\n",
      "Episode  /mnt/parallel/CARLA/CARLA100/episode_01609\n",
      "Episode  /mnt/parallel/CARLA/CARLA100/episode_01044\n",
      "Episode  /mnt/parallel/CARLA/CARLA100/episode_00084\n",
      "Episode  /mnt/parallel/CARLA/CARLA100/episode_01613\n",
      "Episode  /mnt/parallel/CARLA/CARLA100/episode_00400\n",
      "Episode  /mnt/parallel/CARLA/CARLA100/episode_01125\n",
      "Episode  /mnt/parallel/CARLA/CARLA100/episode_01682\n",
      "Episode  /mnt/parallel/CARLA/CARLA100/episode_01770\n",
      "Episode  /mnt/parallel/CARLA/CARLA100/episode_01459\n",
      "Episode  /mnt/parallel/CARLA/CARLA100/episode_00420\n",
      "Episode  /mnt/parallel/CARLA/CARLA100/episode_00572\n",
      "Episode  /mnt/parallel/CARLA/CARLA100/episode_01378\n",
      "Episode  /mnt/parallel/CARLA/CARLA100/episode_00820\n",
      "Episode  /mnt/parallel/CARLA/CARLA100/episode_00886\n",
      "Episode  /mnt/parallel/CARLA/CARLA100/episode_01762\n",
      "Episode  /mnt/parallel/CARLA/CARLA100/episode_00006\n",
      "Episode  /mnt/parallel/CARLA/CARLA100/episode_00802\n",
      "Episode  /mnt/parallel/CARLA/CARLA100/episode_01760\n",
      "Episode  /mnt/parallel/CARLA/CARLA100/episode_00808\n",
      "Episode  /mnt/parallel/CARLA/CARLA100/episode_00485\n",
      "Episode  /mnt/parallel/CARLA/CARLA100/episode_01529\n",
      "Episode  /mnt/parallel/CARLA/CARLA100/episode_01763\n",
      "Episode  /mnt/parallel/CARLA/CARLA100/episode_00564\n",
      "Episode  /mnt/parallel/CARLA/CARLA100/episode_01211\n",
      "Episode  /mnt/parallel/CARLA/CARLA100/episode_00321\n",
      "Episode  /mnt/parallel/CARLA/CARLA100/episode_00573\n",
      "Episode  /mnt/parallel/CARLA/CARLA100/episode_00090\n",
      "Episode  /mnt/parallel/CARLA/CARLA100/episode_01367\n",
      "Episode  /mnt/parallel/CARLA/CARLA100/episode_01138\n",
      "Episode  /mnt/parallel/CARLA/CARLA100/episode_01680\n",
      "Episode  /mnt/parallel/CARLA/CARLA100/episode_01446\n",
      "Episode  /mnt/parallel/CARLA/CARLA100/episode_00167\n",
      "Episode  /mnt/parallel/CARLA/CARLA100/episode_00163\n",
      "Episode  /mnt/parallel/CARLA/CARLA100/episode_01281\n",
      "Episode  /mnt/parallel/CARLA/CARLA100/episode_01524\n",
      "Episode  /mnt/parallel/CARLA/CARLA100/episode_01041\n",
      "Episode  /mnt/parallel/CARLA/CARLA100/episode_01377\n",
      "Episode  /mnt/parallel/CARLA/CARLA100/episode_00080\n",
      "Episode  /mnt/parallel/CARLA/CARLA100/episode_00640\n",
      "Episode  /mnt/parallel/CARLA/CARLA100/episode_00575\n",
      "Episode  /mnt/parallel/CARLA/CARLA100/episode_00811\n",
      "Episode  /mnt/parallel/CARLA/CARLA100/episode_00824\n",
      "Episode  /mnt/parallel/CARLA/CARLA100/episode_01047\n",
      "Episode  /mnt/parallel/CARLA/CARLA100/episode_00560\n",
      "Episode  /mnt/parallel/CARLA/CARLA100/episode_00654\n",
      "Episode  /mnt/parallel/CARLA/CARLA100/episode_01443\n",
      "Episode  /mnt/parallel/CARLA/CARLA100/episode_01210\n",
      "Episode  /mnt/parallel/CARLA/CARLA100/episode_00422\n",
      "Episode  /mnt/parallel/CARLA/CARLA100/episode_00332\n",
      "Episode  /mnt/parallel/CARLA/CARLA100/episode_00651\n",
      "Episode  /mnt/parallel/CARLA/CARLA100/episode_01361\n",
      "Episode  /mnt/parallel/CARLA/CARLA100/episode_00720\n",
      "Episode  /mnt/parallel/CARLA/CARLA100/episode_01283\n",
      "Episode  /mnt/parallel/CARLA/CARLA100/episode_01284\n",
      "Episode  /mnt/parallel/CARLA/CARLA100/episode_00342\n",
      "Episode  /mnt/parallel/CARLA/CARLA100/episode_00414\n",
      "Episode  /mnt/parallel/CARLA/CARLA100/episode_01610\n",
      "Episode  /mnt/parallel/CARLA/CARLA100/episode_00423\n",
      "Episode  /mnt/parallel/CARLA/CARLA100/episode_00801\n",
      "Episode  /mnt/parallel/CARLA/CARLA100/episode_00568\n",
      "Episode  /mnt/parallel/CARLA/CARLA100/episode_00641\n",
      "Episode  /mnt/parallel/CARLA/CARLA100/episode_01379\n",
      "Episode  /mnt/parallel/CARLA/CARLA100/episode_00169\n",
      "Episode  /mnt/parallel/CARLA/CARLA100/episode_01842\n",
      "Episode  /mnt/parallel/CARLA/CARLA100/episode_00331\n",
      "Episode  /mnt/parallel/CARLA/CARLA100/episode_00164\n",
      "Episode  /mnt/parallel/CARLA/CARLA100/episode_00723\n",
      "Episode  /mnt/parallel/CARLA/CARLA100/episode_00083\n",
      "Episode  /mnt/parallel/CARLA/CARLA100/episode_00333\n",
      "Episode  /mnt/parallel/CARLA/CARLA100/episode_00656\n",
      "Episode  /mnt/parallel/CARLA/CARLA100/episode_01209\n",
      "Episode  /mnt/parallel/CARLA/CARLA100/episode_01288\n",
      "Episode  /mnt/parallel/CARLA/CARLA100/episode_01128\n",
      "Episode  /mnt/parallel/CARLA/CARLA100/episode_01847\n",
      "Episode  /mnt/parallel/CARLA/CARLA100/episode_00088\n",
      "Episode  /mnt/parallel/CARLA/CARLA100/episode_00880\n",
      "Episode  /mnt/parallel/CARLA/CARLA100/episode_01764\n",
      "Episode  /mnt/parallel/CARLA/CARLA100/episode_00410\n",
      "Episode  /mnt/parallel/CARLA/CARLA100/episode_00482\n",
      "Episode  /mnt/parallel/CARLA/CARLA100/episode_00721\n",
      "Episode  /mnt/parallel/CARLA/CARLA100/episode_00002\n",
      "Episode  /mnt/parallel/CARLA/CARLA100/episode_00329\n",
      "Episode  /mnt/parallel/CARLA/CARLA100/episode_01370\n",
      "Episode  /mnt/parallel/CARLA/CARLA100/episode_00887\n",
      "Episode  /mnt/parallel/CARLA/CARLA100/episode_00403\n",
      "Episode  /mnt/parallel/CARLA/CARLA100/episode_01458\n",
      "Episode  /mnt/parallel/CARLA/CARLA100/episode_00889\n",
      "Episode  /mnt/parallel/CARLA/CARLA100/episode_00170\n",
      "Episode  /mnt/parallel/CARLA/CARLA100/episode_00816\n",
      "Episode  /mnt/parallel/CARLA/CARLA100/episode_00418\n",
      "Episode  /mnt/parallel/CARLA/CARLA100/episode_01681\n",
      "Episode  /mnt/parallel/CARLA/CARLA100/episode_01528\n",
      "Episode  /mnt/parallel/CARLA/CARLA100/episode_00724\n",
      "Episode  /mnt/parallel/CARLA/CARLA100/episode_00171\n",
      "Episode  /mnt/parallel/CARLA/CARLA100/episode_00642\n",
      "Episode  /mnt/parallel/CARLA/CARLA100/episode_00338\n",
      "Episode  /mnt/parallel/CARLA/CARLA100/episode_01207\n",
      "Episode  /mnt/parallel/CARLA/CARLA100/episode_01050\n",
      "Episode  /mnt/parallel/CARLA/CARLA100/episode_00569\n",
      "Episode  /mnt/parallel/CARLA/CARLA100/episode_01616\n",
      "Episode  /mnt/parallel/CARLA/CARLA100/episode_01689\n",
      "Episode  /mnt/parallel/CARLA/CARLA100/episode_00345\n",
      "Episode  /mnt/parallel/CARLA/CARLA100/episode_01383\n",
      "Episode  /mnt/parallel/CARLA/CARLA100/episode_00655\n",
      "Episode  /mnt/parallel/CARLA/CARLA100/episode_01046\n",
      "Episode  /mnt/parallel/CARLA/CARLA100/episode_00325\n",
      "Episode  /mnt/parallel/CARLA/CARLA100/episode_00165\n",
      "Episode  /mnt/parallel/CARLA/CARLA100/episode_01375\n",
      "Episode  /mnt/parallel/CARLA/CARLA100/episode_01287\n",
      "Episode  /mnt/parallel/CARLA/CARLA100/episode_00565\n",
      "Episode  /mnt/parallel/CARLA/CARLA100/episode_00081\n",
      "THIS EP GOT A PROBLEM!\n",
      "Episode  /mnt/parallel/CARLA/CARLA100/episode_01769\n",
      "Episode  /mnt/parallel/CARLA/CARLA100/episode_01201\n",
      "Episode  /mnt/parallel/CARLA/CARLA100/episode_00412\n",
      "Episode  /mnt/parallel/CARLA/CARLA100/episode_01686\n",
      "THIS EP GOT A PROBLEM!\n",
      "Episode  /mnt/parallel/CARLA/CARLA100/episode_00883\n",
      "Episode  /mnt/parallel/CARLA/CARLA100/episode_00326\n",
      "Episode  /mnt/parallel/CARLA/CARLA100/episode_00882\n",
      "Episode  /mnt/parallel/CARLA/CARLA100/episode_01601\n",
      "Episode  /mnt/parallel/CARLA/CARLA100/episode_00578\n",
      "Episode  /mnt/parallel/CARLA/CARLA100/episode_00563\n",
      "Episode  /mnt/parallel/CARLA/CARLA100/episode_00489\n",
      "Episode  /mnt/parallel/CARLA/CARLA100/episode_00415\n",
      "Episode  /mnt/parallel/CARLA/CARLA100/episode_00821\n",
      "Episode  /mnt/parallel/CARLA/CARLA100/episode_00486\n",
      "Episode  /mnt/parallel/CARLA/CARLA100/episode_01608\n",
      "Episode  /mnt/parallel/CARLA/CARLA100/episode_01453\n",
      "Episode  /mnt/parallel/CARLA/CARLA100/episode_01286\n",
      "Episode  /mnt/parallel/CARLA/CARLA100/episode_01600\n",
      "Episode  /mnt/parallel/CARLA/CARLA100/episode_01605\n",
      "Episode  /mnt/parallel/CARLA/CARLA100/episode_00001\n",
      "Episode  /mnt/parallel/CARLA/CARLA100/episode_00810\n",
      "Episode  /mnt/parallel/CARLA/CARLA100/episode_00823\n",
      "Episode  /mnt/parallel/CARLA/CARLA100/episode_00246\n",
      "Episode  /mnt/parallel/CARLA/CARLA100/episode_00320\n",
      "Episode  /mnt/parallel/CARLA/CARLA100/episode_01381\n",
      "Episode  /mnt/parallel/CARLA/CARLA100/episode_01136\n",
      "Episode  /mnt/parallel/CARLA/CARLA100/episode_01448\n",
      "Episode  /mnt/parallel/CARLA/CARLA100/episode_00643\n",
      "Episode  /mnt/parallel/CARLA/CARLA100/episode_01132\n",
      "Episode  /mnt/parallel/CARLA/CARLA100/episode_00249\n",
      "Episode  /mnt/parallel/CARLA/CARLA100/episode_00969\n",
      "Episode  /mnt/parallel/CARLA/CARLA100/episode_00340\n",
      "Episode  /mnt/parallel/CARLA/CARLA100/episode_01130\n",
      "Episode  /mnt/parallel/CARLA/CARLA100/episode_00804\n",
      "Episode  /mnt/parallel/CARLA/CARLA100/episode_00727\n",
      "Episode  /mnt/parallel/CARLA/CARLA100/episode_01051\n",
      "Episode  /mnt/parallel/CARLA/CARLA100/episode_01124\n",
      "Episode  /mnt/parallel/CARLA/CARLA100/episode_01840\n",
      "Episode  /mnt/parallel/CARLA/CARLA100/episode_00322\n",
      "Episode  /mnt/parallel/CARLA/CARLA100/episode_01604\n",
      "Episode  /mnt/parallel/CARLA/CARLA100/episode_01121\n",
      "Episode  /mnt/parallel/CARLA/CARLA100/episode_01444\n",
      "Episode  /mnt/parallel/CARLA/CARLA100/episode_01449\n",
      "THIS EP GOT A PROBLEM!\n",
      "Episode  /mnt/parallel/CARLA/CARLA100/episode_00323\n"
     ]
    },
    {
     "name": "stdout",
     "output_type": "stream",
     "text": [
      "Episode  /mnt/parallel/CARLA/CARLA100/episode_01362\n",
      "Episode  /mnt/parallel/CARLA/CARLA100/episode_01523\n",
      "Episode  /mnt/parallel/CARLA/CARLA100/episode_00421\n",
      "Episode  /mnt/parallel/CARLA/CARLA100/episode_00483\n",
      "Episode  /mnt/parallel/CARLA/CARLA100/episode_00653\n",
      "Episode  /mnt/parallel/CARLA/CARLA100/episode_00247\n",
      "Episode  /mnt/parallel/CARLA/CARLA100/episode_00813\n",
      "Episode  /mnt/parallel/CARLA/CARLA100/episode_01850\n",
      "THIS EP GOT A PROBLEM!\n",
      "Episode  /mnt/parallel/CARLA/CARLA100/episode_01133\n",
      "Episode  /mnt/parallel/CARLA/CARLA100/episode_00726\n",
      "Episode  /mnt/parallel/CARLA/CARLA100/episode_01607\n",
      "Episode  /mnt/parallel/CARLA/CARLA100/episode_01525\n",
      "Episode  /mnt/parallel/CARLA/CARLA100/episode_01123\n",
      "Episode  /mnt/parallel/CARLA/CARLA100/episode_01455\n",
      "Episode  /mnt/parallel/CARLA/CARLA100/episode_01049\n",
      "Episode  /mnt/parallel/CARLA/CARLA100/episode_01205\n",
      "Episode  /mnt/parallel/CARLA/CARLA100/episode_00409\n",
      "Episode  /mnt/parallel/CARLA/CARLA100/episode_00884\n",
      "Episode  /mnt/parallel/CARLA/CARLA100/episode_00000\n",
      "Episode  /mnt/parallel/CARLA/CARLA100/episode_01200\n",
      "Episode  /mnt/parallel/CARLA/CARLA100/episode_00404\n",
      "Episode  /mnt/parallel/CARLA/CARLA100/episode_00484\n",
      "Episode  /mnt/parallel/CARLA/CARLA100/episode_01212\n",
      "Episode  /mnt/parallel/CARLA/CARLA100/episode_01767\n",
      "Episode  /mnt/parallel/CARLA/CARLA100/episode_01849\n",
      "Episode  /mnt/parallel/CARLA/CARLA100/episode_01447\n",
      "Episode  /mnt/parallel/CARLA/CARLA100/episode_00330\n",
      "Episode  /mnt/parallel/CARLA/CARLA100/episode_01368\n",
      "Episode  /mnt/parallel/CARLA/CARLA100/episode_00730\n",
      "Episode  /mnt/parallel/CARLA/CARLA100/episode_00649\n",
      "Episode  /mnt/parallel/CARLA/CARLA100/episode_00806\n",
      "Episode  /mnt/parallel/CARLA/CARLA100/episode_00570\n",
      "Episode  /mnt/parallel/CARLA/CARLA100/episode_01531\n",
      "Episode  /mnt/parallel/CARLA/CARLA100/episode_01454\n",
      "Episode  /mnt/parallel/CARLA/CARLA100/episode_01374\n",
      "Episode  /mnt/parallel/CARLA/CARLA100/episode_00561\n",
      "Episode  /mnt/parallel/CARLA/CARLA100/episode_00337\n",
      "Episode  /mnt/parallel/CARLA/CARLA100/episode_00405\n",
      "Episode  /mnt/parallel/CARLA/CARLA100/episode_00644\n",
      "Episode  /mnt/parallel/CARLA/CARLA100/episode_00339\n",
      "Episode  /mnt/parallel/CARLA/CARLA100/episode_01685\n",
      "Episode  /mnt/parallel/CARLA/CARLA100/episode_00658\n",
      "THIS EP GOT A PROBLEM!\n",
      "Episode  /mnt/parallel/CARLA/CARLA100/episode_00819\n",
      "Episode  /mnt/parallel/CARLA/CARLA100/episode_01603\n",
      "Episode  /mnt/parallel/CARLA/CARLA100/episode_01129\n",
      "Episode  /mnt/parallel/CARLA/CARLA100/episode_00419\n",
      "Episode  /mnt/parallel/CARLA/CARLA100/episode_00885\n",
      "Episode  /mnt/parallel/CARLA/CARLA100/episode_01369\n",
      "Episode  /mnt/parallel/CARLA/CARLA100/episode_01845\n",
      "Episode  /mnt/parallel/CARLA/CARLA100/episode_01688\n",
      "Episode  /mnt/parallel/CARLA/CARLA100/episode_01052\n",
      "Episode  /mnt/parallel/CARLA/CARLA100/episode_00005\n",
      "Episode  /mnt/parallel/CARLA/CARLA100/episode_00408\n",
      "Episode  /mnt/parallel/CARLA/CARLA100/episode_00577\n",
      "THIS EP GOT A PROBLEM!\n",
      "Episode  /mnt/parallel/CARLA/CARLA100/episode_01372\n",
      "Episode  /mnt/parallel/CARLA/CARLA100/episode_00729\n",
      "Episode  /mnt/parallel/CARLA/CARLA100/episode_01615\n",
      "Episode  /mnt/parallel/CARLA/CARLA100/episode_00809\n",
      "Episode  /mnt/parallel/CARLA/CARLA100/episode_00881\n",
      "Episode  /mnt/parallel/CARLA/CARLA100/episode_00085\n",
      "Episode  /mnt/parallel/CARLA/CARLA100/episode_00652\n",
      "Episode  /mnt/parallel/CARLA/CARLA100/episode_00407\n",
      "Episode  /mnt/parallel/CARLA/CARLA100/episode_01440\n",
      "Episode  /mnt/parallel/CARLA/CARLA100/episode_01135\n",
      "Episode  /mnt/parallel/CARLA/CARLA100/episode_00645\n",
      "THIS EP GOT A PROBLEM!\n",
      "Episode  /mnt/parallel/CARLA/CARLA100/episode_00803\n",
      "Episode  /mnt/parallel/CARLA/CARLA100/episode_00574\n",
      "Episode  /mnt/parallel/CARLA/CARLA100/episode_00567\n",
      "Episode  /mnt/parallel/CARLA/CARLA100/episode_00646\n",
      "Episode  /mnt/parallel/CARLA/CARLA100/episode_01526\n",
      "Episode  /mnt/parallel/CARLA/CARLA100/episode_01373\n",
      "Episode  /mnt/parallel/CARLA/CARLA100/episode_01846\n",
      "Episode  /mnt/parallel/CARLA/CARLA100/episode_01457\n",
      "Episode  /mnt/parallel/CARLA/CARLA100/episode_01043\n",
      "Episode  /mnt/parallel/CARLA/CARLA100/episode_00731\n",
      "Episode  /mnt/parallel/CARLA/CARLA100/episode_00805\n",
      "Episode  /mnt/parallel/CARLA/CARLA100/episode_00968\n",
      "Episode  /mnt/parallel/CARLA/CARLA100/episode_01611\n",
      "Episode  /mnt/parallel/CARLA/CARLA100/episode_01843\n",
      "Episode  /mnt/parallel/CARLA/CARLA100/episode_00480\n",
      "Episode  /mnt/parallel/CARLA/CARLA100/episode_00416\n",
      "Episode  /mnt/parallel/CARLA/CARLA100/episode_01683\n",
      "Episode  /mnt/parallel/CARLA/CARLA100/episode_01532\n",
      "Episode  /mnt/parallel/CARLA/CARLA100/episode_00004\n",
      "Episode  /mnt/parallel/CARLA/CARLA100/episode_00647\n",
      "Episode  /mnt/parallel/CARLA/CARLA100/episode_00967\n",
      "Episode  /mnt/parallel/CARLA/CARLA100/episode_00343\n",
      "Episode  /mnt/parallel/CARLA/CARLA100/episode_00814\n",
      "Episode  /mnt/parallel/CARLA/CARLA100/episode_01445\n",
      "Episode  /mnt/parallel/CARLA/CARLA100/episode_00168\n",
      "Episode  /mnt/parallel/CARLA/CARLA100/episode_01366\n",
      "Episode  /mnt/parallel/CARLA/CARLA100/episode_01208\n",
      "Episode  /mnt/parallel/CARLA/CARLA100/episode_00817\n",
      "Episode  /mnt/parallel/CARLA/CARLA100/episode_01766\n",
      "Episode  /mnt/parallel/CARLA/CARLA100/episode_00003\n",
      "Episode  /mnt/parallel/CARLA/CARLA100/episode_01365\n",
      "Episode  /mnt/parallel/CARLA/CARLA100/episode_00241\n",
      "Episode  /mnt/parallel/CARLA/CARLA100/episode_01456\n",
      "Episode  /mnt/parallel/CARLA/CARLA100/episode_00248\n",
      "Episode  /mnt/parallel/CARLA/CARLA100/episode_01848\n",
      "Episode  /mnt/parallel/CARLA/CARLA100/episode_00487\n",
      "Episode  /mnt/parallel/CARLA/CARLA100/episode_00725\n",
      "Episode  /mnt/parallel/CARLA/CARLA100/episode_01521\n",
      "Episode  /mnt/parallel/CARLA/CARLA100/episode_00401\n",
      "Episode  /mnt/parallel/CARLA/CARLA100/episode_00960\n",
      "THIS EP GOT A PROBLEM!\n",
      "Episode  /mnt/parallel/CARLA/CARLA100/episode_00406\n",
      "Episode  /mnt/parallel/CARLA/CARLA100/episode_00335\n",
      "Episode  /mnt/parallel/CARLA/CARLA100/episode_01045\n",
      "Episode  /mnt/parallel/CARLA/CARLA100/episode_01376\n",
      "Episode  /mnt/parallel/CARLA/CARLA100/episode_00411\n",
      "Episode  /mnt/parallel/CARLA/CARLA100/episode_01204\n",
      "Episode  /mnt/parallel/CARLA/CARLA100/episode_00402\n",
      "Episode  /mnt/parallel/CARLA/CARLA100/episode_01768\n",
      "Episode  /mnt/parallel/CARLA/CARLA100/episode_00087\n",
      "Episode  /mnt/parallel/CARLA/CARLA100/episode_01214\n",
      "Episode  /mnt/parallel/CARLA/CARLA100/episode_00242\n",
      "Episode  /mnt/parallel/CARLA/CARLA100/episode_01213\n",
      "Episode  /mnt/parallel/CARLA/CARLA100/episode_01141\n",
      "Episode  /mnt/parallel/CARLA/CARLA100/episode_00966\n",
      "Episode  /mnt/parallel/CARLA/CARLA100/episode_01614\n",
      "Episode  /mnt/parallel/CARLA/CARLA100/episode_00336\n",
      "Episode  /mnt/parallel/CARLA/CARLA100/episode_01140\n",
      "Episode  /mnt/parallel/CARLA/CARLA100/episode_01380\n",
      "Episode  /mnt/parallel/CARLA/CARLA100/episode_00243\n",
      "Episode  /mnt/parallel/CARLA/CARLA100/episode_00160\n",
      "Episode  /mnt/parallel/CARLA/CARLA100/episode_01761\n",
      "Episode  /mnt/parallel/CARLA/CARLA100/episode_01137\n",
      "Episode  /mnt/parallel/CARLA/CARLA100/episode_01131\n",
      "Episode  /mnt/parallel/CARLA/CARLA100/episode_00962\n",
      "Episode  /mnt/parallel/CARLA/CARLA100/episode_00965\n",
      "Episode  /mnt/parallel/CARLA/CARLA100/episode_01617\n",
      "Episode  /mnt/parallel/CARLA/CARLA100/episode_00562\n",
      "Episode  /mnt/parallel/CARLA/CARLA100/episode_01684\n",
      "Episode  /mnt/parallel/CARLA/CARLA100/episode_00800\n",
      "Episode  /mnt/parallel/CARLA/CARLA100/episode_00244\n",
      "Episode  /mnt/parallel/CARLA/CARLA100/episode_01122\n",
      "Episode  /mnt/parallel/CARLA/CARLA100/episode_01450\n",
      "Episode  /mnt/parallel/CARLA/CARLA100/episode_00166\n",
      "Episode  /mnt/parallel/CARLA/CARLA100/episode_01841\n",
      "Episode  /mnt/parallel/CARLA/CARLA100/episode_00822\n",
      "Episode  /mnt/parallel/CARLA/CARLA100/episode_00245\n",
      "Episode  /mnt/parallel/CARLA/CARLA100/episode_01126\n",
      "Episode  /mnt/parallel/CARLA/CARLA100/episode_00488\n",
      "Episode  /mnt/parallel/CARLA/CARLA100/episode_00650\n",
      "Episode  /mnt/parallel/CARLA/CARLA100/episode_00324\n",
      "Episode  /mnt/parallel/CARLA/CARLA100/episode_01202\n",
      "Episode  /mnt/parallel/CARLA/CARLA100/episode_01127\n",
      "THIS EP GOT A PROBLEM!\n",
      "Episode  /mnt/parallel/CARLA/CARLA100/episode_01142\n",
      "Episode  /mnt/parallel/CARLA/CARLA100/episode_00481\n",
      "Episode  /mnt/parallel/CARLA/CARLA100/episode_01530\n",
      "Episode  /mnt/parallel/CARLA/CARLA100/episode_01522\n",
      "Episode  /mnt/parallel/CARLA/CARLA100/episode_00413\n",
      "Episode  /mnt/parallel/CARLA/CARLA100/episode_01206\n",
      "Episode  /mnt/parallel/CARLA/CARLA100/episode_01612\n",
      "Episode  /mnt/parallel/CARLA/CARLA100/episode_01042\n"
     ]
    },
    {
     "name": "stdout",
     "output_type": "stream",
     "text": [
      "Episode  /mnt/parallel/CARLA/CARLA100/episode_01134\n",
      "Episode  /mnt/parallel/CARLA/CARLA100/episode_00970\n",
      "Episode  /mnt/parallel/CARLA/CARLA100/episode_01203\n",
      "THIS EP GOT A PROBLEM!\n",
      "Episode  /mnt/parallel/CARLA/CARLA100/episode_01452\n",
      "Episode  /mnt/parallel/CARLA/CARLA100/episode_01765\n",
      "Episode  /mnt/parallel/CARLA/CARLA100/episode_01280\n",
      "Episode  /mnt/parallel/CARLA/CARLA100/episode_01371\n",
      "Episode  /mnt/parallel/CARLA/CARLA100/episode_01451\n",
      "Episode  /mnt/parallel/CARLA/CARLA100/episode_01048\n",
      "Episode  /mnt/parallel/CARLA/CARLA100/episode_00888\n",
      "Episode  /mnt/parallel/CARLA/CARLA100/episode_00818\n",
      "Episode  /mnt/parallel/CARLA/CARLA100/episode_00576\n",
      "Episode  /mnt/parallel/CARLA/CARLA100/episode_00344\n",
      "THIS EP GOT A PROBLEM!\n",
      "Episode  /mnt/parallel/CARLA/CARLA100/episode_00722\n",
      "Episode  /mnt/parallel/CARLA/CARLA100/episode_01363\n",
      "Episode  /mnt/parallel/CARLA/CARLA100/episode_00089\n",
      "Episode  /mnt/parallel/CARLA/CARLA100/episode_01139\n",
      "Episode  /mnt/parallel/CARLA/CARLA100/episode_00328\n",
      "THIS EP GOT A PROBLEM!\n",
      "Episode  /mnt/parallel/CARLA/CARLA100/episode_01360\n",
      "Episode  /mnt/parallel/CARLA/CARLA100/episode_00815\n",
      "Episode  /mnt/parallel/CARLA/CARLA100/episode_01289\n",
      "Episode  /mnt/parallel/CARLA/CARLA100/episode_00162\n",
      "Episode  /mnt/parallel/CARLA/CARLA100/episode_00240\n",
      "Episode  /mnt/parallel/CARLA/CARLA100/episode_01602\n",
      "Episode  /mnt/parallel/CARLA/CARLA100/episode_00417\n",
      "Episode  /mnt/parallel/CARLA/CARLA100/episode_01285\n",
      "Episode  /mnt/parallel/CARLA/CARLA100/episode_01120\n",
      "Episode  /mnt/parallel/CARLA/CARLA100/episode_00334\n",
      "Episode  /mnt/parallel/CARLA/CARLA100/episode_01364\n",
      "Episode  /mnt/parallel/CARLA/CARLA100/episode_01143\n",
      "Episode  /mnt/parallel/CARLA/CARLA100/episode_00566\n",
      "Episode  /mnt/parallel/CARLA/CARLA100/episode_01520\n",
      "Episode  /mnt/parallel/CARLA/CARLA100/episode_00086\n",
      "Episode  /mnt/parallel/CARLA/CARLA100/episode_00341\n",
      "Episode  /mnt/parallel/CARLA/CARLA100/episode_01040\n",
      "THIS EP GOT A PROBLEM!\n",
      "Episode  /mnt/parallel/CARLA/CARLA100/episode_00161\n",
      "Episode  /mnt/parallel/CARLA/CARLA100/episode_01527\n",
      "Episode  /mnt/parallel/CARLA/CARLA100/episode_00961\n",
      "Episode  /mnt/parallel/CARLA/CARLA100/episode_00657\n",
      "Episode  /mnt/parallel/CARLA/CARLA100/episode_00964\n",
      "Episode  /mnt/parallel/CARLA/CARLA100/episode_01687\n",
      "Episode  /mnt/parallel/CARLA/CARLA100/episode_00579\n",
      "Episode  /mnt/parallel/CARLA/CARLA100/episode_00082\n",
      "Episode  /mnt/parallel/CARLA/CARLA100/episode_01844\n",
      "THIS EP GOT A PROBLEM!\n",
      "Episode  /mnt/parallel/CARLA/CARLA100/episode_01442\n",
      "Episode  /mnt/parallel/CARLA/CARLA100/episode_00807\n",
      "Episode  /mnt/parallel/CARLA/CARLA100/episode_00963\n",
      "Episode  /mnt/parallel/CARLA/CARLA100/episode_00327\n",
      "Episode  /mnt/parallel/CARLA/CARLA100/episode_00571\n"
     ]
    }
   ],
   "source": [
    "dataset = CoILDataset('/mnt/parallel/CARLA/CARLA100/', None)"
   ]
  },
  {
   "cell_type": "code",
   "execution_count": 34,
   "metadata": {},
   "outputs": [
    {
     "name": "stderr",
     "output_type": "stream",
     "text": [
      "1567704it [00:02, 702065.76it/s]\n"
     ]
    }
   ],
   "source": [
    "Steer = np.zeros(len(dataset.measurements))\n",
    "Throttle = np.zeros(len(dataset.measurements))\n",
    "Brake = np.zeros(len(dataset.measurements))\n",
    "Speed_module = np.zeros(len(dataset.measurements))\n",
    "Directions = np.zeros(len(dataset.measurements))\n",
    "\n",
    "for i, M in tqdm(enumerate(dataset.measurements)):\n",
    "    Steer[i] = M['steer']\n",
    "    Throttle[i] = M['throttle']\n",
    "    Brake[i] = M['brake']\n",
    "    Speed_module[i] = M['speed_module']\n",
    "    Directions[i] = M['directions']"
   ]
  },
  {
   "cell_type": "code",
   "execution_count": 113,
   "metadata": {},
   "outputs": [
    {
     "name": "stdout",
     "output_type": "stream",
     "text": [
      "-0.1872551441192627 10.846786499023438\n"
     ]
    },
    {
     "data": {
      "image/png": "[encoded data removed]",
      "text/plain": [
       "<Figure size 432x288 with 1 Axes>"
      ]
     },
     "metadata": {},
     "output_type": "display_data"
    }
   ],
   "source": [
    "_ = plt.hist(Speed_module)\n",
    "print(Speed_module.min(), Speed_module.max())"
   ]
  },
  {
   "cell_type": "code",
   "execution_count": 114,
   "metadata": {},
   "outputs": [
    {
     "name": "stdout",
     "output_type": "stream",
     "text": [
      "-1.0 1.0\n"
     ]
    },
    {
     "data": {
      "image/png": "[encoded data removed]",
      "text/plain": [
       "<Figure size 432x288 with 1 Axes>"
      ]
     },
     "metadata": {},
     "output_type": "display_data"
    }
   ],
   "source": [
    "_ = plt.hist(Steer)\n",
    "print(Steer.min(), Steer.max())"
   ]
  },
  {
   "cell_type": "code",
   "execution_count": 115,
   "metadata": {},
   "outputs": [
    {
     "name": "stdout",
     "output_type": "stream",
     "text": [
      "0.009999999776482582 0.75\n"
     ]
    },
    {
     "data": {
      "image/png": "[encoded data removed]",
      "text/plain": [
       "<Figure size 432x288 with 1 Axes>"
      ]
     },
     "metadata": {},
     "output_type": "display_data"
    }
   ],
   "source": [
    "_ = plt.hist(Throttle)\n",
    "print(Throttle.min(), Throttle.max())"
   ]
  },
  {
   "cell_type": "code",
   "execution_count": 116,
   "metadata": {},
   "outputs": [
    {
     "name": "stdout",
     "output_type": "stream",
     "text": [
      "0.0 1.0\n"
     ]
    },
    {
     "data": {
      "image/png": "[encoded data removed]",
      "text/plain": [
       "<Figure size 432x288 with 1 Axes>"
      ]
     },
     "metadata": {},
     "output_type": "display_data"
    }
   ],
   "source": [
    "_ = plt.hist(Brake)\n",
    "print(Brake.min(), Brake.max())"
   ]
  },
  {
   "cell_type": "code",
   "execution_count": 117,
   "metadata": {
    "scrolled": true
   },
   "outputs": [
    {
     "data": {
      "image/png": "[encoded data removed]",
      "text/plain": [
       "<Figure size 432x288 with 1 Axes>"
      ]
     },
     "metadata": {},
     "output_type": "display_data"
    }
   ],
   "source": [
    "_ = plt.hist(Directions)"
   ]
  },
  {
   "cell_type": "code",
   "execution_count": 125,
   "metadata": {},
   "outputs": [],
   "source": [
    "weird = np.where(Speed_module<0.)[0]"
   ]
  },
  {
   "cell_type": "code",
   "execution_count": 126,
   "metadata": {},
   "outputs": [
    {
     "data": {
      "text/plain": [
       "<Figure size 720x720 with 0 Axes>"
      ]
     },
     "metadata": {},
     "output_type": "display_data"
    }
   ],
   "source": [
    "fig = figure(figsize=(10, 10))"
   ]
  },
  {
   "cell_type": "code",
   "execution_count": 127,
   "metadata": {},
   "outputs": [
    {
     "data": {
      "application/vnd.jupyter.widget-view+json": {
       "model_id": "7b09fc384220437d8b254822205aac53",
       "version_major": 2,
       "version_minor": 0
      },
      "text/plain": [
       "interactive(children=(IntSlider(value=127190, description='index', max=254381), Output()), _dom_classes=('widg…"
      ]
     },
     "metadata": {},
     "output_type": "display_data"
    }
   ],
   "source": [
    "def make_image(index):\n",
    "    idx = weird[index]\n",
    "    img = dataset.sensor_data_names[idx]\n",
    "    title(img)\n",
    "    img = imread(img)\n",
    "    imshow(img) \n",
    "    return fig\n",
    "\n",
    "_ = interact(make_image, index=(0, weird.shape[0]-1))\n"
   ]
  },
  {
   "cell_type": "code",
   "execution_count": 128,
   "metadata": {},
   "outputs": [],
   "source": [
    "# define ranges\n",
    "import sys\n",
    "def full_split(dataset):\n",
    "    \n",
    "    S = np.zeros(len(dataset.measurements))\n",
    "    T = np.zeros(len(dataset.measurements))\n",
    "    B = np.zeros(len(dataset.measurements))\n",
    "    V = np.zeros(len(dataset.measurements))\n",
    "    C = np.zeros(len(dataset.measurements))\n",
    "\n",
    "    for i, M in tqdm(enumerate(dataset.measurements)):\n",
    "        S[i] = M['steer']\n",
    "        T[i] = M['throttle']\n",
    "        B[i] = M['brake']\n",
    "        V[i] = M['speed_module']\n",
    "        C[i] = M['directions']\n",
    "    \n",
    "    control = [[0, 2, 5], [3], [4]]\n",
    "    steering = [-1.1, -0.9, -0.8, -0.6, 0, 0.6, 0.8, 0.9, 1.1]\n",
    "    throttle = [0., 0.1, 0.3, 0.5, 1.1]\n",
    "    brake = [0., 0.1, 0.3, 0.5, 1.1]\n",
    "    speed = [-1., 2., 4., 6., 8., 11.]\n",
    "    keys = list()\n",
    "    \n",
    "    counter = 0\n",
    "    for c in range(3):  # control\n",
    "        for s in range(len(steering)-1):  # steer\n",
    "            for t in range(len(throttle)-1): # throttle\n",
    "                for b in range(len(brake)-1): # brake\n",
    "                    for v in range(len(speed)-1): # speed\n",
    "                        true_c = [False, ] * C.shape[0]\n",
    "                        for vals in control[c]:\n",
    "                            true_c = np.logical_or(true_c, C==vals)\n",
    "                        # true_c = [m in control[c] for m in M[D[b'control']]]\n",
    "                        true_s = np.logical_and(S>=steering[s], S<steering[s+1])\n",
    "                        true_t = np.logical_and(T>=throttle[t], T<throttle[t+1])\n",
    "                        true_b = np.logical_and(B>=brake[b], B<brake[b+1])\n",
    "                        true_v = np.logical_and(V>=speed[v], V<speed[v+1])\n",
    "                        k1 = np.logical_and(true_c, true_s)\n",
    "                        k2 = np.logical_and(true_t, true_b)\n",
    "                        k3 = np.logical_and(k1, k2)\n",
    "                        k = np.logical_and(k3, true_v)\n",
    "                        k = np.where(k)[0]\n",
    "                        counter += 1\n",
    "                        # bar.next()\n",
    "                        # sys.stdout.write(\"{} \".format(counter))\n",
    "                        # sys.stdout.flush()\n",
    "                        print(\"{} | speed: {} | control {} | throttle {} | brake {} | steer {}\".format(\n",
    "                            counter, sum(true_v), sum(true_c), sum(true_t), sum(true_b), sum(true_s)), end=\"\\r\")\n",
    "                        # keys.append(k)\n",
    "                        if len(k) > 0:\n",
    "                            this_d = {'keys': k, 'control': c, 'steer': s, 'throttle': t, 'brake': b, 'speed': v}\n",
    "                            keys.append(this_d)\n",
    "                        # print(counter)\n",
    "    # keys.append({'keys': list(np.arange(M.shape[1])), 'control': np.inf, 'steer': np.inf, 'throttle': np.inf, 'brake': np.inf, 'speed': np.inf})\n",
    "    print('filter length: {}'.format(len(keys)))\n",
    "    return keys\n",
    "# bar.finish()"
   ]
  },
  {
   "cell_type": "code",
   "execution_count": 129,
   "metadata": {
    "scrolled": true
   },
   "outputs": [
    {
     "name": "stderr",
     "output_type": "stream",
     "text": [
      "1567704it [00:01, 828539.00it/s]\n"
     ]
    },
    {
     "name": "stdout",
     "output_type": "stream",
     "text": [
      "filter length: 31679 | control 338664 | throttle 674178 | brake 54873 | steer 545426301\n"
     ]
    }
   ],
   "source": [
    "keys = full_split(dataset)"
   ]
  },
  {
   "cell_type": "code",
   "execution_count": 130,
   "metadata": {},
   "outputs": [
    {
     "name": "stdout",
     "output_type": "stream",
     "text": [
      "1567704\n"
     ]
    }
   ],
   "source": [
    "a = 0\n",
    "for k in keys:\n",
    "    a += len(k['keys'])\n",
    "    \n",
    "print(a)"
   ]
  },
  {
   "cell_type": "code",
   "execution_count": 105,
   "metadata": {},
   "outputs": [],
   "source": [
    "true_s = np.logical_and(Steer>=.9, Steer<1)"
   ]
  },
  {
   "cell_type": "code",
   "execution_count": 106,
   "metadata": {},
   "outputs": [
    {
     "data": {
      "text/plain": [
       "27"
      ]
     },
     "execution_count": 106,
     "metadata": {},
     "output_type": "execute_result"
    }
   ],
   "source": [
    "sum(true_s)"
   ]
  },
  {
   "cell_type": "code",
   "execution_count": 89,
   "metadata": {},
   "outputs": [
    {
     "data": {
      "text/plain": [
       "1567704"
      ]
     },
     "execution_count": 89,
     "metadata": {},
     "output_type": "execute_result"
    }
   ],
   "source": [
    "Steer.shape[0]"
   ]
  },
  {
   "cell_type": "code",
   "execution_count": 131,
   "metadata": {},
   "outputs": [
    {
     "name": "stdout",
     "output_type": "stream",
     "text": [
      "316\n"
     ]
    }
   ],
   "source": [
    "print(len(keys))"
   ]
  },
  {
   "cell_type": "code",
   "execution_count": null,
   "metadata": {},
   "outputs": [],
   "source": []
  }
 ],
 "metadata": {
  "kernelspec": {
   "display_name": "Python 3",
   "language": "python",
   "name": "python3"
  },
  "language_info": {
   "codemirror_mode": {
    "name": "ipython",
    "version": 3
   },
   "file_extension": ".py",
   "mimetype": "text/x-python",
   "name": "python",
   "nbconvert_exporter": "python",
   "pygments_lexer": "ipython3",
   "version": "3.6.6"
  }
 },
 "nbformat": 4,
 "nbformat_minor": 2
}
