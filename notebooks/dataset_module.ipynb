{
 "cells": [
  {
   "cell_type": "code",
   "execution_count": 1,
   "metadata": {},
   "outputs": [
    {
     "name": "stdout",
     "output_type": "stream",
     "text": [
      "Populating the interactive namespace from numpy and matplotlib\n"
     ]
    },
    {
     "name": "stderr",
     "output_type": "stream",
     "text": [
      "/home/ubuntu/.conda/envs/t1/lib/python3.6/site-packages/h5py/__init__.py:36: FutureWarning: Conversion of the second argument of issubdtype from `float` to `np.floating` is deprecated. In future, it will be treated as `np.float64 == np.dtype(float).type`.\n",
      "  from ._conv import register_converters as _register_converters\n"
     ]
    }
   ],
   "source": [
    "%pylab inline\n",
    "import numpy as np\n",
    "from matplotlib import pyplot as plt\n",
    "from input import CoILDataset\n",
    "from tqdm import tqdm\n",
    "import pprint\n",
    "from ipywidgets import interact\n",
    "import numpy as n\n",
    "from scipy.misc import imread\n",
    "pp = pprint.PrettyPrinter(indent=2)"
   ]
  },
  {
   "cell_type": "code",
   "execution_count": 3,
   "metadata": {
    "scrolled": true
   },
   "outputs": [
    {
     "name": "stdout",
     "output_type": "stream",
     "text": [
      "/mnt/parallel/CARLA/CARLA100_2/\n",
      " Episodes list \n",
      "['/mnt/parallel/CARLA/CARLA100_2/episode_00000', '/mnt/parallel/CARLA/CARLA100_2/episode_00001', '/mnt/parallel/CARLA/CARLA100_2/episode_00002', '/mnt/parallel/CARLA/CARLA100_2/episode_00003', '/mnt/parallel/CARLA/CARLA100_2/episode_00004', '/mnt/parallel/CARLA/CARLA100_2/episode_00005', '/mnt/parallel/CARLA/CARLA100_2/episode_00006', '/mnt/parallel/CARLA/CARLA100_2/episode_00007', '/mnt/parallel/CARLA/CARLA100_2/episode_00008', '/mnt/parallel/CARLA/CARLA100_2/episode_00010', '/mnt/parallel/CARLA/CARLA100_2/episode_00011', '/mnt/parallel/CARLA/CARLA100_2/episode_00012', '/mnt/parallel/CARLA/CARLA100_2/episode_00014', '/mnt/parallel/CARLA/CARLA100_2/episode_00015', '/mnt/parallel/CARLA/CARLA100_2/episode_00016', '/mnt/parallel/CARLA/CARLA100_2/episode_00017', '/mnt/parallel/CARLA/CARLA100_2/episode_00018', '/mnt/parallel/CARLA/CARLA100_2/episode_00020', '/mnt/parallel/CARLA/CARLA100_2/episode_00021', '/mnt/parallel/CARLA/CARLA100_2/episode_00022', '/mnt/parallel/CARLA/CARLA100_2/episode_00023', '/mnt/parallel/CARLA/CARLA100_2/episode_00024', '/mnt/parallel/CARLA/CARLA100_2/episode_00025', '/mnt/parallel/CARLA/CARLA100_2/episode_00026', '/mnt/parallel/CARLA/CARLA100_2/episode_00027', '/mnt/parallel/CARLA/CARLA100_2/episode_00028', '/mnt/parallel/CARLA/CARLA100_2/episode_00029', '/mnt/parallel/CARLA/CARLA100_2/episode_00030', '/mnt/parallel/CARLA/CARLA100_2/episode_00031', '/mnt/parallel/CARLA/CARLA100_2/episode_00033', '/mnt/parallel/CARLA/CARLA100_2/episode_00034', '/mnt/parallel/CARLA/CARLA100_2/episode_00035', '/mnt/parallel/CARLA/CARLA100_2/episode_00036', '/mnt/parallel/CARLA/CARLA100_2/episode_00037', '/mnt/parallel/CARLA/CARLA100_2/episode_00038', '/mnt/parallel/CARLA/CARLA100_2/episode_00039', '/mnt/parallel/CARLA/CARLA100_2/episode_00040', '/mnt/parallel/CARLA/CARLA100_2/episode_00041', '/mnt/parallel/CARLA/CARLA100_2/episode_00042', '/mnt/parallel/CARLA/CARLA100_2/episode_00044', '/mnt/parallel/CARLA/CARLA100_2/episode_00045', '/mnt/parallel/CARLA/CARLA100_2/episode_00046', '/mnt/parallel/CARLA/CARLA100_2/episode_00047', '/mnt/parallel/CARLA/CARLA100_2/episode_00048', '/mnt/parallel/CARLA/CARLA100_2/episode_00049', '/mnt/parallel/CARLA/CARLA100_2/episode_00050', '/mnt/parallel/CARLA/CARLA100_2/episode_00051', '/mnt/parallel/CARLA/CARLA100_2/episode_00052', '/mnt/parallel/CARLA/CARLA100_2/episode_00053', '/mnt/parallel/CARLA/CARLA100_2/episode_00054', '/mnt/parallel/CARLA/CARLA100_2/episode_00055', '/mnt/parallel/CARLA/CARLA100_2/episode_00056', '/mnt/parallel/CARLA/CARLA100_2/episode_00057', '/mnt/parallel/CARLA/CARLA100_2/episode_00058', '/mnt/parallel/CARLA/CARLA100_2/episode_00059', '/mnt/parallel/CARLA/CARLA100_2/episode_00060', '/mnt/parallel/CARLA/CARLA100_2/episode_00061', '/mnt/parallel/CARLA/CARLA100_2/episode_00062', '/mnt/parallel/CARLA/CARLA100_2/episode_00063', '/mnt/parallel/CARLA/CARLA100_2/episode_00064', '/mnt/parallel/CARLA/CARLA100_2/episode_00065', '/mnt/parallel/CARLA/CARLA100_2/episode_00066', '/mnt/parallel/CARLA/CARLA100_2/episode_00067', '/mnt/parallel/CARLA/CARLA100_2/episode_00068', '/mnt/parallel/CARLA/CARLA100_2/episode_00069', '/mnt/parallel/CARLA/CARLA100_2/episode_00070', '/mnt/parallel/CARLA/CARLA100_2/episode_00071', '/mnt/parallel/CARLA/CARLA100_2/episode_00072', '/mnt/parallel/CARLA/CARLA100_2/episode_00073', '/mnt/parallel/CARLA/CARLA100_2/episode_00074', '/mnt/parallel/CARLA/CARLA100_2/episode_00075', '/mnt/parallel/CARLA/CARLA100_2/episode_00076', '/mnt/parallel/CARLA/CARLA100_2/episode_00077', '/mnt/parallel/CARLA/CARLA100_2/episode_00078', '/mnt/parallel/CARLA/CARLA100_2/episode_00079', '/mnt/parallel/CARLA/CARLA100_2/episode_00080', '/mnt/parallel/CARLA/CARLA100_2/episode_00081', '/mnt/parallel/CARLA/CARLA100_2/episode_00082', '/mnt/parallel/CARLA/CARLA100_2/episode_00083', '/mnt/parallel/CARLA/CARLA100_2/episode_00084', '/mnt/parallel/CARLA/CARLA100_2/episode_00085', '/mnt/parallel/CARLA/CARLA100_2/episode_00086', '/mnt/parallel/CARLA/CARLA100_2/episode_00087', '/mnt/parallel/CARLA/CARLA100_2/episode_00088', '/mnt/parallel/CARLA/CARLA100_2/episode_00089', '/mnt/parallel/CARLA/CARLA100_2/episode_00090', '/mnt/parallel/CARLA/CARLA100_2/episode_00091', '/mnt/parallel/CARLA/CARLA100_2/episode_00092', '/mnt/parallel/CARLA/CARLA100_2/episode_00093', '/mnt/parallel/CARLA/CARLA100_2/episode_00094', '/mnt/parallel/CARLA/CARLA100_2/episode_00095', '/mnt/parallel/CARLA/CARLA100_2/episode_00096', '/mnt/parallel/CARLA/CARLA100_2/episode_00097', '/mnt/parallel/CARLA/CARLA100_2/episode_00098', '/mnt/parallel/CARLA/CARLA100_2/episode_00099', '/mnt/parallel/CARLA/CARLA100_2/episode_00100', '/mnt/parallel/CARLA/CARLA100_2/episode_00101', '/mnt/parallel/CARLA/CARLA100_2/episode_00102', '/mnt/parallel/CARLA/CARLA100_2/episode_00103', '/mnt/parallel/CARLA/CARLA100_2/episode_00104', '/mnt/parallel/CARLA/CARLA100_2/episode_00105', '/mnt/parallel/CARLA/CARLA100_2/episode_00106', '/mnt/parallel/CARLA/CARLA100_2/episode_00107', '/mnt/parallel/CARLA/CARLA100_2/episode_00108', '/mnt/parallel/CARLA/CARLA100_2/episode_00109', '/mnt/parallel/CARLA/CARLA100_2/episode_00110', '/mnt/parallel/CARLA/CARLA100_2/episode_00111', '/mnt/parallel/CARLA/CARLA100_2/episode_00112', '/mnt/parallel/CARLA/CARLA100_2/episode_00113', '/mnt/parallel/CARLA/CARLA100_2/episode_00114', '/mnt/parallel/CARLA/CARLA100_2/episode_00115', '/mnt/parallel/CARLA/CARLA100_2/episode_00116', '/mnt/parallel/CARLA/CARLA100_2/episode_00120', '/mnt/parallel/CARLA/CARLA100_2/episode_00121', '/mnt/parallel/CARLA/CARLA100_2/episode_00122', '/mnt/parallel/CARLA/CARLA100_2/episode_00123', '/mnt/parallel/CARLA/CARLA100_2/episode_00124', '/mnt/parallel/CARLA/CARLA100_2/episode_00125', '/mnt/parallel/CARLA/CARLA100_2/episode_00126', '/mnt/parallel/CARLA/CARLA100_2/episode_00127', '/mnt/parallel/CARLA/CARLA100_2/episode_00128', '/mnt/parallel/CARLA/CARLA100_2/episode_00129', '/mnt/parallel/CARLA/CARLA100_2/episode_00130', '/mnt/parallel/CARLA/CARLA100_2/episode_00131', '/mnt/parallel/CARLA/CARLA100_2/episode_00132', '/mnt/parallel/CARLA/CARLA100_2/episode_00133', '/mnt/parallel/CARLA/CARLA100_2/episode_00134', '/mnt/parallel/CARLA/CARLA100_2/episode_00135', '/mnt/parallel/CARLA/CARLA100_2/episode_00136', '/mnt/parallel/CARLA/CARLA100_2/episode_00137', '/mnt/parallel/CARLA/CARLA100_2/episode_00138', '/mnt/parallel/CARLA/CARLA100_2/episode_00139', '/mnt/parallel/CARLA/CARLA100_2/episode_00140', '/mnt/parallel/CARLA/CARLA100_2/episode_00141', '/mnt/parallel/CARLA/CARLA100_2/episode_00142', '/mnt/parallel/CARLA/CARLA100_2/episode_00143', '/mnt/parallel/CARLA/CARLA100_2/episode_00144', '/mnt/parallel/CARLA/CARLA100_2/episode_00145', '/mnt/parallel/CARLA/CARLA100_2/episode_00146', '/mnt/parallel/CARLA/CARLA100_2/episode_00147', '/mnt/parallel/CARLA/CARLA100_2/episode_00150', '/mnt/parallel/CARLA/CARLA100_2/episode_00151', '/mnt/parallel/CARLA/CARLA100_2/episode_00152', '/mnt/parallel/CARLA/CARLA100_2/episode_00153', '/mnt/parallel/CARLA/CARLA100_2/episode_00154', '/mnt/parallel/CARLA/CARLA100_2/episode_00155', '/mnt/parallel/CARLA/CARLA100_2/episode_00156', '/mnt/parallel/CARLA/CARLA100_2/episode_00157', '/mnt/parallel/CARLA/CARLA100_2/episode_00180', '/mnt/parallel/CARLA/CARLA100_2/episode_00181', '/mnt/parallel/CARLA/CARLA100_2/episode_00182', '/mnt/parallel/CARLA/CARLA100_2/episode_00183', '/mnt/parallel/CARLA/CARLA100_2/episode_00184', '/mnt/parallel/CARLA/CARLA100_2/episode_00185', '/mnt/parallel/CARLA/CARLA100_2/episode_00186', '/mnt/parallel/CARLA/CARLA100_2/episode_00187', '/mnt/parallel/CARLA/CARLA100_2/episode_00188', '/mnt/parallel/CARLA/CARLA100_2/episode_00189', '/mnt/parallel/CARLA/CARLA100_2/episode_00190', '/mnt/parallel/CARLA/CARLA100_2/episode_00191', '/mnt/parallel/CARLA/CARLA100_2/episode_00192', '/mnt/parallel/CARLA/CARLA100_2/episode_00193', '/mnt/parallel/CARLA/CARLA100_2/episode_00194', '/mnt/parallel/CARLA/CARLA100_2/episode_00195', '/mnt/parallel/CARLA/CARLA100_2/episode_00196', '/mnt/parallel/CARLA/CARLA100_2/episode_00197', '/mnt/parallel/CARLA/CARLA100_2/episode_00198', '/mnt/parallel/CARLA/CARLA100_2/episode_00199', '/mnt/parallel/CARLA/CARLA100_2/episode_00200', '/mnt/parallel/CARLA/CARLA100_2/episode_00201', '/mnt/parallel/CARLA/CARLA100_2/episode_00202', '/mnt/parallel/CARLA/CARLA100_2/episode_00203', '/mnt/parallel/CARLA/CARLA100_2/episode_00204', '/mnt/parallel/CARLA/CARLA100_2/episode_00205', '/mnt/parallel/CARLA/CARLA100_2/episode_00206', '/mnt/parallel/CARLA/CARLA100_2/episode_00207', '/mnt/parallel/CARLA/CARLA100_2/episode_00208', '/mnt/parallel/CARLA/CARLA100_2/episode_00209', '/mnt/parallel/CARLA/CARLA100_2/episode_00210', '/mnt/parallel/CARLA/CARLA100_2/episode_00211', '/mnt/parallel/CARLA/CARLA100_2/episode_00212', '/mnt/parallel/CARLA/CARLA100_2/episode_00213', '/mnt/parallel/CARLA/CARLA100_2/episode_00214', '/mnt/parallel/CARLA/CARLA100_2/episode_00215', '/mnt/parallel/CARLA/CARLA100_2/episode_00216', '/mnt/parallel/CARLA/CARLA100_2/episode_00217', '/mnt/parallel/CARLA/CARLA100_2/episode_00218', '/mnt/parallel/CARLA/CARLA100_2/episode_00219', '/mnt/parallel/CARLA/CARLA100_2/episode_00220', '/mnt/parallel/CARLA/CARLA100_2/episode_00221', '/mnt/parallel/CARLA/CARLA100_2/episode_00222', '/mnt/parallel/CARLA/CARLA100_2/episode_00223', '/mnt/parallel/CARLA/CARLA100_2/episode_00224', '/mnt/parallel/CARLA/CARLA100_2/episode_00225', '/mnt/parallel/CARLA/CARLA100_2/episode_00226', '/mnt/parallel/CARLA/CARLA100_2/episode_00227', '/mnt/parallel/CARLA/CARLA100_2/episode_00228', '/mnt/parallel/CARLA/CARLA100_2/episode_00229', '/mnt/parallel/CARLA/CARLA100_2/episode_00230', '/mnt/parallel/CARLA/CARLA100_2/episode_00231', '/mnt/parallel/CARLA/CARLA100_2/episode_00232', '/mnt/parallel/CARLA/CARLA100_2/episode_00233', '/mnt/parallel/CARLA/CARLA100_2/episode_00234', '/mnt/parallel/CARLA/CARLA100_2/episode_00235', '/mnt/parallel/CARLA/CARLA100_2/episode_00236', '/mnt/parallel/CARLA/CARLA100_2/episode_00237', '/mnt/parallel/CARLA/CARLA100_2/episode_00240', '/mnt/parallel/CARLA/CARLA100_2/episode_00241', '/mnt/parallel/CARLA/CARLA100_2/episode_00242', '/mnt/parallel/CARLA/CARLA100_2/episode_00243', '/mnt/parallel/CARLA/CARLA100_2/episode_00244', '/mnt/parallel/CARLA/CARLA100_2/episode_00245', '/mnt/parallel/CARLA/CARLA100_2/episode_00246', '/mnt/parallel/CARLA/CARLA100_2/episode_00247', '/mnt/parallel/CARLA/CARLA100_2/episode_00248', '/mnt/parallel/CARLA/CARLA100_2/episode_00249', '/mnt/parallel/CARLA/CARLA100_2/episode_00251', '/mnt/parallel/CARLA/CARLA100_2/episode_00252', '/mnt/parallel/CARLA/CARLA100_2/episode_00253', '/mnt/parallel/CARLA/CARLA100_2/episode_00254', '/mnt/parallel/CARLA/CARLA100_2/episode_00255', '/mnt/parallel/CARLA/CARLA100_2/episode_00256', '/mnt/parallel/CARLA/CARLA100_2/episode_00257', '/mnt/parallel/CARLA/CARLA100_2/episode_00258', '/mnt/parallel/CARLA/CARLA100_2/episode_00259', '/mnt/parallel/CARLA/CARLA100_2/episode_00260', '/mnt/parallel/CARLA/CARLA100_2/episode_00261', '/mnt/parallel/CARLA/CARLA100_2/episode_00262', '/mnt/parallel/CARLA/CARLA100_2/episode_00263', '/mnt/parallel/CARLA/CARLA100_2/episode_00264', '/mnt/parallel/CARLA/CARLA100_2/episode_00265', '/mnt/parallel/CARLA/CARLA100_2/episode_00266', '/mnt/parallel/CARLA/CARLA100_2/episode_00270', '/mnt/parallel/CARLA/CARLA100_2/episode_00271', '/mnt/parallel/CARLA/CARLA100_2/episode_00272', '/mnt/parallel/CARLA/CARLA100_2/episode_00273', '/mnt/parallel/CARLA/CARLA100_2/episode_00274', '/mnt/parallel/CARLA/CARLA100_2/episode_00275', '/mnt/parallel/CARLA/CARLA100_2/episode_00276', '/mnt/parallel/CARLA/CARLA100_2/episode_00277', '/mnt/parallel/CARLA/CARLA100_2/episode_00278', '/mnt/parallel/CARLA/CARLA100_2/episode_00279', '/mnt/parallel/CARLA/CARLA100_2/episode_00280', '/mnt/parallel/CARLA/CARLA100_2/episode_00281', '/mnt/parallel/CARLA/CARLA100_2/episode_00282', '/mnt/parallel/CARLA/CARLA100_2/episode_00283', '/mnt/parallel/CARLA/CARLA100_2/episode_00284', '/mnt/parallel/CARLA/CARLA100_2/episode_00285', '/mnt/parallel/CARLA/CARLA100_2/episode_00286', '/mnt/parallel/CARLA/CARLA100_2/episode_00287', '/mnt/parallel/CARLA/CARLA100_2/episode_00288', '/mnt/parallel/CARLA/CARLA100_2/episode_00289', '/mnt/parallel/CARLA/CARLA100_2/episode_00290', '/mnt/parallel/CARLA/CARLA100_2/episode_00291', '/mnt/parallel/CARLA/CARLA100_2/episode_00292', '/mnt/parallel/CARLA/CARLA100_2/episode_00293', '/mnt/parallel/CARLA/CARLA100_2/episode_00294', '/mnt/parallel/CARLA/CARLA100_2/episode_00295', '/mnt/parallel/CARLA/CARLA100_2/episode_00296', '/mnt/parallel/CARLA/CARLA100_2/episode_00297', '/mnt/parallel/CARLA/CARLA100_2/episode_00298', '/mnt/parallel/CARLA/CARLA100_2/episode_00299', '/mnt/parallel/CARLA/CARLA100_2/episode_00300', '/mnt/parallel/CARLA/CARLA100_2/episode_00301', '/mnt/parallel/CARLA/CARLA100_2/episode_00302', '/mnt/parallel/CARLA/CARLA100_2/episode_00303', '/mnt/parallel/CARLA/CARLA100_2/episode_00304', '/mnt/parallel/CARLA/CARLA100_2/episode_00305', '/mnt/parallel/CARLA/CARLA100_2/episode_00306', '/mnt/parallel/CARLA/CARLA100_2/episode_00307', '/mnt/parallel/CARLA/CARLA100_2/episode_00308', '/mnt/parallel/CARLA/CARLA100_2/episode_00309', '/mnt/parallel/CARLA/CARLA100_2/episode_00310', '/mnt/parallel/CARLA/CARLA100_2/episode_00311', '/mnt/parallel/CARLA/CARLA100_2/episode_00312', '/mnt/parallel/CARLA/CARLA100_2/episode_00313', '/mnt/parallel/CARLA/CARLA100_2/episode_00314', '/mnt/parallel/CARLA/CARLA100_2/episode_00315', '/mnt/parallel/CARLA/CARLA100_2/episode_00316', '/mnt/parallel/CARLA/CARLA100_2/episode_00317', '/mnt/parallel/CARLA/CARLA100_2/episode_00318', '/mnt/parallel/CARLA/CARLA100_2/episode_00319', '/mnt/parallel/CARLA/CARLA100_2/episode_00320', '/mnt/parallel/CARLA/CARLA100_2/episode_00321', '/mnt/parallel/CARLA/CARLA100_2/episode_00322', '/mnt/parallel/CARLA/CARLA100_2/episode_00323', '/mnt/parallel/CARLA/CARLA100_2/episode_00324', '/mnt/parallel/CARLA/CARLA100_2/episode_00325', '/mnt/parallel/CARLA/CARLA100_2/episode_00326', '/mnt/parallel/CARLA/CARLA100_2/episode_00327', '/mnt/parallel/CARLA/CARLA100_2/episode_00328', '/mnt/parallel/CARLA/CARLA100_2/episode_00329', '/mnt/parallel/CARLA/CARLA100_2/episode_00330', '/mnt/parallel/CARLA/CARLA100_2/episode_00331', '/mnt/parallel/CARLA/CARLA100_2/episode_00332', '/mnt/parallel/CARLA/CARLA100_2/episode_00333', '/mnt/parallel/CARLA/CARLA100_2/episode_00334', '/mnt/parallel/CARLA/CARLA100_2/episode_00335', '/mnt/parallel/CARLA/CARLA100_2/episode_00336', '/mnt/parallel/CARLA/CARLA100_2/episode_00337', '/mnt/parallel/CARLA/CARLA100_2/episode_00338', '/mnt/parallel/CARLA/CARLA100_2/episode_00339', '/mnt/parallel/CARLA/CARLA100_2/episode_00340', '/mnt/parallel/CARLA/CARLA100_2/episode_00341', '/mnt/parallel/CARLA/CARLA100_2/episode_00342', '/mnt/parallel/CARLA/CARLA100_2/episode_00343', '/mnt/parallel/CARLA/CARLA100_2/episode_00344', '/mnt/parallel/CARLA/CARLA100_2/episode_00345', '/mnt/parallel/CARLA/CARLA100_2/episode_00346', '/mnt/parallel/CARLA/CARLA100_2/episode_00347', '/mnt/parallel/CARLA/CARLA100_2/episode_00348', '/mnt/parallel/CARLA/CARLA100_2/episode_00349', '/mnt/parallel/CARLA/CARLA100_2/episode_00350', '/mnt/parallel/CARLA/CARLA100_2/episode_00351', '/mnt/parallel/CARLA/CARLA100_2/episode_00352', '/mnt/parallel/CARLA/CARLA100_2/episode_00353', '/mnt/parallel/CARLA/CARLA100_2/episode_00354', '/mnt/parallel/CARLA/CARLA100_2/episode_00355', '/mnt/parallel/CARLA/CARLA100_2/episode_00356', '/mnt/parallel/CARLA/CARLA100_2/episode_00357', '/mnt/parallel/CARLA/CARLA100_2/episode_00358', '/mnt/parallel/CARLA/CARLA100_2/episode_00359', '/mnt/parallel/CARLA/CARLA100_2/episode_00360', '/mnt/parallel/CARLA/CARLA100_2/episode_00361', '/mnt/parallel/CARLA/CARLA100_2/episode_00362', '/mnt/parallel/CARLA/CARLA100_2/episode_00363', '/mnt/parallel/CARLA/CARLA100_2/episode_00364', '/mnt/parallel/CARLA/CARLA100_2/episode_00365', '/mnt/parallel/CARLA/CARLA100_2/episode_00366', '/mnt/parallel/CARLA/CARLA100_2/episode_00367', '/mnt/parallel/CARLA/CARLA100_2/episode_00368', '/mnt/parallel/CARLA/CARLA100_2/episode_00369', '/mnt/parallel/CARLA/CARLA100_2/episode_00370', '/mnt/parallel/CARLA/CARLA100_2/episode_00371', '/mnt/parallel/CARLA/CARLA100_2/episode_00372', '/mnt/parallel/CARLA/CARLA100_2/episode_00373', '/mnt/parallel/CARLA/CARLA100_2/episode_00374', '/mnt/parallel/CARLA/CARLA100_2/episode_00375', '/mnt/parallel/CARLA/CARLA100_2/episode_00376', '/mnt/parallel/CARLA/CARLA100_2/episode_00378', '/mnt/parallel/CARLA/CARLA100_2/episode_00379', '/mnt/parallel/CARLA/CARLA100_2/episode_00380', '/mnt/parallel/CARLA/CARLA100_2/episode_00381', '/mnt/parallel/CARLA/CARLA100_2/episode_00382', '/mnt/parallel/CARLA/CARLA100_2/episode_00383', '/mnt/parallel/CARLA/CARLA100_2/episode_00390', '/mnt/parallel/CARLA/CARLA100_2/episode_00391', '/mnt/parallel/CARLA/CARLA100_2/episode_00392', '/mnt/parallel/CARLA/CARLA100_2/episode_00393', '/mnt/parallel/CARLA/CARLA100_2/episode_00394', '/mnt/parallel/CARLA/CARLA100_2/episode_00395', '/mnt/parallel/CARLA/CARLA100_2/episode_00396', '/mnt/parallel/CARLA/CARLA100_2/episode_00397', '/mnt/parallel/CARLA/CARLA100_2/episode_00398', '/mnt/parallel/CARLA/CARLA100_2/episode_00399', '/mnt/parallel/CARLA/CARLA100_2/episode_00400', '/mnt/parallel/CARLA/CARLA100_2/episode_00401', '/mnt/parallel/CARLA/CARLA100_2/episode_00402', '/mnt/parallel/CARLA/CARLA100_2/episode_00403', '/mnt/parallel/CARLA/CARLA100_2/episode_00404', '/mnt/parallel/CARLA/CARLA100_2/episode_00405', '/mnt/parallel/CARLA/CARLA100_2/episode_00406', '/mnt/parallel/CARLA/CARLA100_2/episode_00407', '/mnt/parallel/CARLA/CARLA100_2/episode_00408', '/mnt/parallel/CARLA/CARLA100_2/episode_00409', '/mnt/parallel/CARLA/CARLA100_2/episode_00410', '/mnt/parallel/CARLA/CARLA100_2/episode_00411', '/mnt/parallel/CARLA/CARLA100_2/episode_00412', '/mnt/parallel/CARLA/CARLA100_2/episode_00413', '/mnt/parallel/CARLA/CARLA100_2/episode_00414', '/mnt/parallel/CARLA/CARLA100_2/episode_00415', '/mnt/parallel/CARLA/CARLA100_2/episode_00416', '/mnt/parallel/CARLA/CARLA100_2/episode_00417', '/mnt/parallel/CARLA/CARLA100_2/episode_00418', '/mnt/parallel/CARLA/CARLA100_2/episode_00419', '/mnt/parallel/CARLA/CARLA100_2/episode_00420', '/mnt/parallel/CARLA/CARLA100_2/episode_00421', '/mnt/parallel/CARLA/CARLA100_2/episode_00422', '/mnt/parallel/CARLA/CARLA100_2/episode_00423', '/mnt/parallel/CARLA/CARLA100_2/episode_00424', '/mnt/parallel/CARLA/CARLA100_2/episode_00425', '/mnt/parallel/CARLA/CARLA100_2/episode_00426', '/mnt/parallel/CARLA/CARLA100_2/episode_00427', '/mnt/parallel/CARLA/CARLA100_2/episode_00428', '/mnt/parallel/CARLA/CARLA100_2/episode_00429', '/mnt/parallel/CARLA/CARLA100_2/episode_00430', '/mnt/parallel/CARLA/CARLA100_2/episode_00431', '/mnt/parallel/CARLA/CARLA100_2/episode_00432', '/mnt/parallel/CARLA/CARLA100_2/episode_00433', '/mnt/parallel/CARLA/CARLA100_2/episode_00434', '/mnt/parallel/CARLA/CARLA100_2/episode_00435', '/mnt/parallel/CARLA/CARLA100_2/episode_00436', '/mnt/parallel/CARLA/CARLA100_2/episode_00437', '/mnt/parallel/CARLA/CARLA100_2/episode_00438', '/mnt/parallel/CARLA/CARLA100_2/episode_00439', '/mnt/parallel/CARLA/CARLA100_2/episode_00440', '/mnt/parallel/CARLA/CARLA100_2/episode_00441', '/mnt/parallel/CARLA/CARLA100_2/episode_00442', '/mnt/parallel/CARLA/CARLA100_2/episode_00443', '/mnt/parallel/CARLA/CARLA100_2/episode_00444', '/mnt/parallel/CARLA/CARLA100_2/episode_00445', '/mnt/parallel/CARLA/CARLA100_2/episode_00446', '/mnt/parallel/CARLA/CARLA100_2/episode_00447', '/mnt/parallel/CARLA/CARLA100_2/episode_00448', '/mnt/parallel/CARLA/CARLA100_2/episode_00449', '/mnt/parallel/CARLA/CARLA100_2/episode_00450', '/mnt/parallel/CARLA/CARLA100_2/episode_00451', '/mnt/parallel/CARLA/CARLA100_2/episode_00452', '/mnt/parallel/CARLA/CARLA100_2/episode_00453', '/mnt/parallel/CARLA/CARLA100_2/episode_00454', '/mnt/parallel/CARLA/CARLA100_2/episode_00455', '/mnt/parallel/CARLA/CARLA100_2/episode_00456', '/mnt/parallel/CARLA/CARLA100_2/episode_00457', '/mnt/parallel/CARLA/CARLA100_2/episode_00458', '/mnt/parallel/CARLA/CARLA100_2/episode_00459', '/mnt/parallel/CARLA/CARLA100_2/episode_00460', '/mnt/parallel/CARLA/CARLA100_2/episode_00461', '/mnt/parallel/CARLA/CARLA100_2/episode_00462', '/mnt/parallel/CARLA/CARLA100_2/episode_00463', '/mnt/parallel/CARLA/CARLA100_2/episode_00464', '/mnt/parallel/CARLA/CARLA100_2/episode_00465', '/mnt/parallel/CARLA/CARLA100_2/episode_00466', '/mnt/parallel/CARLA/CARLA100_2/episode_00467', '/mnt/parallel/CARLA/CARLA100_2/episode_00468', '/mnt/parallel/CARLA/CARLA100_2/episode_00469', '/mnt/parallel/CARLA/CARLA100_2/episode_00470', '/mnt/parallel/CARLA/CARLA100_2/episode_00471', '/mnt/parallel/CARLA/CARLA100_2/episode_00472', '/mnt/parallel/CARLA/CARLA100_2/episode_00473', '/mnt/parallel/CARLA/CARLA100_2/episode_00474', '/mnt/parallel/CARLA/CARLA100_2/episode_00475', '/mnt/parallel/CARLA/CARLA100_2/episode_00476', '/mnt/parallel/CARLA/CARLA100_2/episode_00477', '/mnt/parallel/CARLA/CARLA100_2/episode_00478', '/mnt/parallel/CARLA/CARLA100_2/episode_00479', '/mnt/parallel/CARLA/CARLA100_2/episode_00480', '/mnt/parallel/CARLA/CARLA100_2/episode_00481', '/mnt/parallel/CARLA/CARLA100_2/episode_00482', '/mnt/parallel/CARLA/CARLA100_2/episode_00483', '/mnt/parallel/CARLA/CARLA100_2/episode_00485', '/mnt/parallel/CARLA/CARLA100_2/episode_00486', '/mnt/parallel/CARLA/CARLA100_2/episode_00487', '/mnt/parallel/CARLA/CARLA100_2/episode_00488', '/mnt/parallel/CARLA/CARLA100_2/episode_00490', '/mnt/parallel/CARLA/CARLA100_2/episode_00491', '/mnt/parallel/CARLA/CARLA100_2/episode_00492', '/mnt/parallel/CARLA/CARLA100_2/episode_00493', '/mnt/parallel/CARLA/CARLA100_2/episode_00494', '/mnt/parallel/CARLA/CARLA100_2/episode_00495', '/mnt/parallel/CARLA/CARLA100_2/episode_00496', '/mnt/parallel/CARLA/CARLA100_2/episode_00497', '/mnt/parallel/CARLA/CARLA100_2/episode_00498', '/mnt/parallel/CARLA/CARLA100_2/episode_00499', '/mnt/parallel/CARLA/CARLA100_2/episode_00501', '/mnt/parallel/CARLA/CARLA100_2/episode_00510', '/mnt/parallel/CARLA/CARLA100_2/episode_00511', '/mnt/parallel/CARLA/CARLA100_2/episode_00512', '/mnt/parallel/CARLA/CARLA100_2/episode_00513', '/mnt/parallel/CARLA/CARLA100_2/episode_00514', '/mnt/parallel/CARLA/CARLA100_2/episode_00515', '/mnt/parallel/CARLA/CARLA100_2/episode_00516', '/mnt/parallel/CARLA/CARLA100_2/episode_00517', '/mnt/parallel/CARLA/CARLA100_2/episode_00518', '/mnt/parallel/CARLA/CARLA100_2/episode_00519', '/mnt/parallel/CARLA/CARLA100_2/episode_00520', '/mnt/parallel/CARLA/CARLA100_2/episode_00521', '/mnt/parallel/CARLA/CARLA100_2/episode_00522', '/mnt/parallel/CARLA/CARLA100_2/episode_00523', '/mnt/parallel/CARLA/CARLA100_2/episode_00524', '/mnt/parallel/CARLA/CARLA100_2/episode_00525', '/mnt/parallel/CARLA/CARLA100_2/episode_00526', '/mnt/parallel/CARLA/CARLA100_2/episode_00527', '/mnt/parallel/CARLA/CARLA100_2/episode_00528', '/mnt/parallel/CARLA/CARLA100_2/episode_00529', '/mnt/parallel/CARLA/CARLA100_2/episode_00530', '/mnt/parallel/CARLA/CARLA100_2/episode_00531', '/mnt/parallel/CARLA/CARLA100_2/episode_00532', '/mnt/parallel/CARLA/CARLA100_2/episode_00533', '/mnt/parallel/CARLA/CARLA100_2/episode_00534', '/mnt/parallel/CARLA/CARLA100_2/episode_00535', '/mnt/parallel/CARLA/CARLA100_2/episode_00536', '/mnt/parallel/CARLA/CARLA100_2/episode_00537', '/mnt/parallel/CARLA/CARLA100_2/episode_00538', '/mnt/parallel/CARLA/CARLA100_2/episode_00539', '/mnt/parallel/CARLA/CARLA100_2/episode_00540', '/mnt/parallel/CARLA/CARLA100_2/episode_00541', '/mnt/parallel/CARLA/CARLA100_2/episode_00542', '/mnt/parallel/CARLA/CARLA100_2/episode_00543', '/mnt/parallel/CARLA/CARLA100_2/episode_00544', '/mnt/parallel/CARLA/CARLA100_2/episode_00545', '/mnt/parallel/CARLA/CARLA100_2/episode_00546', '/mnt/parallel/CARLA/CARLA100_2/episode_00547', '/mnt/parallel/CARLA/CARLA100_2/episode_00548', '/mnt/parallel/CARLA/CARLA100_2/episode_00549', '/mnt/parallel/CARLA/CARLA100_2/episode_00550', '/mnt/parallel/CARLA/CARLA100_2/episode_00551', '/mnt/parallel/CARLA/CARLA100_2/episode_00552', '/mnt/parallel/CARLA/CARLA100_2/episode_00553', '/mnt/parallel/CARLA/CARLA100_2/episode_00554', '/mnt/parallel/CARLA/CARLA100_2/episode_00555', '/mnt/parallel/CARLA/CARLA100_2/episode_00556', '/mnt/parallel/CARLA/CARLA100_2/episode_00557', '/mnt/parallel/CARLA/CARLA100_2/episode_00558', '/mnt/parallel/CARLA/CARLA100_2/episode_00559', '/mnt/parallel/CARLA/CARLA100_2/episode_00560', '/mnt/parallel/CARLA/CARLA100_2/episode_00561', '/mnt/parallel/CARLA/CARLA100_2/episode_00562', '/mnt/parallel/CARLA/CARLA100_2/episode_00563', '/mnt/parallel/CARLA/CARLA100_2/episode_00564', '/mnt/parallel/CARLA/CARLA100_2/episode_00565', '/mnt/parallel/CARLA/CARLA100_2/episode_00566', '/mnt/parallel/CARLA/CARLA100_2/episode_00567', '/mnt/parallel/CARLA/CARLA100_2/episode_00568', '/mnt/parallel/CARLA/CARLA100_2/episode_00569', '/mnt/parallel/CARLA/CARLA100_2/episode_00570', '/mnt/parallel/CARLA/CARLA100_2/episode_00571', '/mnt/parallel/CARLA/CARLA100_2/episode_00572', '/mnt/parallel/CARLA/CARLA100_2/episode_00573', '/mnt/parallel/CARLA/CARLA100_2/episode_00574', '/mnt/parallel/CARLA/CARLA100_2/episode_00575', '/mnt/parallel/CARLA/CARLA100_2/episode_00576', '/mnt/parallel/CARLA/CARLA100_2/episode_00577', '/mnt/parallel/CARLA/CARLA100_2/episode_00578', '/mnt/parallel/CARLA/CARLA100_2/episode_00579', '/mnt/parallel/CARLA/CARLA100_2/episode_00580', '/mnt/parallel/CARLA/CARLA100_2/episode_00581', '/mnt/parallel/CARLA/CARLA100_2/episode_00582', '/mnt/parallel/CARLA/CARLA100_2/episode_00583', '/mnt/parallel/CARLA/CARLA100_2/episode_00584', '/mnt/parallel/CARLA/CARLA100_2/episode_00585', '/mnt/parallel/CARLA/CARLA100_2/episode_00586', '/mnt/parallel/CARLA/CARLA100_2/episode_00587', '/mnt/parallel/CARLA/CARLA100_2/episode_00588', '/mnt/parallel/CARLA/CARLA100_2/episode_00589', '/mnt/parallel/CARLA/CARLA100_2/episode_00590', '/mnt/parallel/CARLA/CARLA100_2/episode_00591', '/mnt/parallel/CARLA/CARLA100_2/episode_00592', '/mnt/parallel/CARLA/CARLA100_2/episode_00593', '/mnt/parallel/CARLA/CARLA100_2/episode_00594', '/mnt/parallel/CARLA/CARLA100_2/episode_00595', '/mnt/parallel/CARLA/CARLA100_2/episode_00596', '/mnt/parallel/CARLA/CARLA100_2/episode_00597', '/mnt/parallel/CARLA/CARLA100_2/episode_00598', '/mnt/parallel/CARLA/CARLA100_2/episode_00599', '/mnt/parallel/CARLA/CARLA100_2/episode_00600', '/mnt/parallel/CARLA/CARLA100_2/episode_00601', '/mnt/parallel/CARLA/CARLA100_2/episode_00602', '/mnt/parallel/CARLA/CARLA100_2/episode_00603', '/mnt/parallel/CARLA/CARLA100_2/episode_00604', '/mnt/parallel/CARLA/CARLA100_2/episode_00605', '/mnt/parallel/CARLA/CARLA100_2/episode_00606', '/mnt/parallel/CARLA/CARLA100_2/episode_00607', '/mnt/parallel/CARLA/CARLA100_2/episode_00608', '/mnt/parallel/CARLA/CARLA100_2/episode_00609', '/mnt/parallel/CARLA/CARLA100_2/episode_00610', '/mnt/parallel/CARLA/CARLA100_2/episode_00611', '/mnt/parallel/CARLA/CARLA100_2/episode_00612', '/mnt/parallel/CARLA/CARLA100_2/episode_00613', '/mnt/parallel/CARLA/CARLA100_2/episode_00614', '/mnt/parallel/CARLA/CARLA100_2/episode_00615', '/mnt/parallel/CARLA/CARLA100_2/episode_00616', '/mnt/parallel/CARLA/CARLA100_2/episode_00617', '/mnt/parallel/CARLA/CARLA100_2/episode_00618', '/mnt/parallel/CARLA/CARLA100_2/episode_00619', '/mnt/parallel/CARLA/CARLA100_2/episode_00620', '/mnt/parallel/CARLA/CARLA100_2/episode_00621', '/mnt/parallel/CARLA/CARLA100_2/episode_00622', '/mnt/parallel/CARLA/CARLA100_2/episode_00623', '/mnt/parallel/CARLA/CARLA100_2/episode_00624', '/mnt/parallel/CARLA/CARLA100_2/episode_00625', '/mnt/parallel/CARLA/CARLA100_2/episode_00626', '/mnt/parallel/CARLA/CARLA100_2/episode_00627', '/mnt/parallel/CARLA/CARLA100_2/episode_00628', '/mnt/parallel/CARLA/CARLA100_2/episode_00629', '/mnt/parallel/CARLA/CARLA100_2/episode_00630', '/mnt/parallel/CARLA/CARLA100_2/episode_00631', '/mnt/parallel/CARLA/CARLA100_2/episode_00632', '/mnt/parallel/CARLA/CARLA100_2/episode_00633', '/mnt/parallel/CARLA/CARLA100_2/episode_00634', '/mnt/parallel/CARLA/CARLA100_2/episode_00635', '/mnt/parallel/CARLA/CARLA100_2/episode_00636', '/mnt/parallel/CARLA/CARLA100_2/episode_00637', '/mnt/parallel/CARLA/CARLA100_2/episode_00638', '/mnt/parallel/CARLA/CARLA100_2/episode_00639', '/mnt/parallel/CARLA/CARLA100_2/episode_00640', '/mnt/parallel/CARLA/CARLA100_2/episode_00641', '/mnt/parallel/CARLA/CARLA100_2/episode_00642', '/mnt/parallel/CARLA/CARLA100_2/episode_00643', '/mnt/parallel/CARLA/CARLA100_2/episode_00644', '/mnt/parallel/CARLA/CARLA100_2/episode_00645', '/mnt/parallel/CARLA/CARLA100_2/episode_00646', '/mnt/parallel/CARLA/CARLA100_2/episode_00647', '/mnt/parallel/CARLA/CARLA100_2/episode_00648', '/mnt/parallel/CARLA/CARLA100_2/episode_00649', '/mnt/parallel/CARLA/CARLA100_2/episode_00650', '/mnt/parallel/CARLA/CARLA100_2/episode_00651', '/mnt/parallel/CARLA/CARLA100_2/episode_00652', '/mnt/parallel/CARLA/CARLA100_2/episode_00653', '/mnt/parallel/CARLA/CARLA100_2/episode_00654', '/mnt/parallel/CARLA/CARLA100_2/episode_00655', '/mnt/parallel/CARLA/CARLA100_2/episode_00656', '/mnt/parallel/CARLA/CARLA100_2/episode_00657', '/mnt/parallel/CARLA/CARLA100_2/episode_00658', '/mnt/parallel/CARLA/CARLA100_2/episode_00659', '/mnt/parallel/CARLA/CARLA100_2/episode_00660', '/mnt/parallel/CARLA/CARLA100_2/episode_00661', '/mnt/parallel/CARLA/CARLA100_2/episode_00662', '/mnt/parallel/CARLA/CARLA100_2/episode_00663', '/mnt/parallel/CARLA/CARLA100_2/episode_00664', '/mnt/parallel/CARLA/CARLA100_2/episode_00665', '/mnt/parallel/CARLA/CARLA100_2/episode_00666', '/mnt/parallel/CARLA/CARLA100_2/episode_00667', '/mnt/parallel/CARLA/CARLA100_2/episode_00668', '/mnt/parallel/CARLA/CARLA100_2/episode_00669', '/mnt/parallel/CARLA/CARLA100_2/episode_00670', '/mnt/parallel/CARLA/CARLA100_2/episode_00671', '/mnt/parallel/CARLA/CARLA100_2/episode_00672', '/mnt/parallel/CARLA/CARLA100_2/episode_00673', '/mnt/parallel/CARLA/CARLA100_2/episode_00674', '/mnt/parallel/CARLA/CARLA100_2/episode_00675', '/mnt/parallel/CARLA/CARLA100_2/episode_00676', '/mnt/parallel/CARLA/CARLA100_2/episode_00677', '/mnt/parallel/CARLA/CARLA100_2/episode_00678', '/mnt/parallel/CARLA/CARLA100_2/episode_00679', '/mnt/parallel/CARLA/CARLA100_2/episode_00680', '/mnt/parallel/CARLA/CARLA100_2/episode_00681', '/mnt/parallel/CARLA/CARLA100_2/episode_00682', '/mnt/parallel/CARLA/CARLA100_2/episode_00683', '/mnt/parallel/CARLA/CARLA100_2/episode_00684', '/mnt/parallel/CARLA/CARLA100_2/episode_00685', '/mnt/parallel/CARLA/CARLA100_2/episode_00686', '/mnt/parallel/CARLA/CARLA100_2/episode_00687', '/mnt/parallel/CARLA/CARLA100_2/episode_00688', '/mnt/parallel/CARLA/CARLA100_2/episode_00689', '/mnt/parallel/CARLA/CARLA100_2/episode_00690', '/mnt/parallel/CARLA/CARLA100_2/episode_00691', '/mnt/parallel/CARLA/CARLA100_2/episode_00692', '/mnt/parallel/CARLA/CARLA100_2/episode_00693', '/mnt/parallel/CARLA/CARLA100_2/episode_00694', '/mnt/parallel/CARLA/CARLA100_2/episode_00695', '/mnt/parallel/CARLA/CARLA100_2/episode_00696', '/mnt/parallel/CARLA/CARLA100_2/episode_00697', '/mnt/parallel/CARLA/CARLA100_2/episode_00698', '/mnt/parallel/CARLA/CARLA100_2/episode_00699', '/mnt/parallel/CARLA/CARLA100_2/episode_00700', '/mnt/parallel/CARLA/CARLA100_2/episode_00701', '/mnt/parallel/CARLA/CARLA100_2/episode_00702', '/mnt/parallel/CARLA/CARLA100_2/episode_00703', '/mnt/parallel/CARLA/CARLA100_2/episode_00704', '/mnt/parallel/CARLA/CARLA100_2/episode_00705', '/mnt/parallel/CARLA/CARLA100_2/episode_00706', '/mnt/parallel/CARLA/CARLA100_2/episode_00707', '/mnt/parallel/CARLA/CARLA100_2/episode_00708', '/mnt/parallel/CARLA/CARLA100_2/episode_00709', '/mnt/parallel/CARLA/CARLA100_2/episode_00710', '/mnt/parallel/CARLA/CARLA100_2/episode_00711', '/mnt/parallel/CARLA/CARLA100_2/episode_00712', '/mnt/parallel/CARLA/CARLA100_2/episode_00713', '/mnt/parallel/CARLA/CARLA100_2/episode_00714', '/mnt/parallel/CARLA/CARLA100_2/episode_00715', '/mnt/parallel/CARLA/CARLA100_2/episode_00716', '/mnt/parallel/CARLA/CARLA100_2/episode_00717', '/mnt/parallel/CARLA/CARLA100_2/episode_00718', '/mnt/parallel/CARLA/CARLA100_2/episode_00719', '/mnt/parallel/CARLA/CARLA100_2/episode_00721', '/mnt/parallel/CARLA/CARLA100_2/episode_00722', '/mnt/parallel/CARLA/CARLA100_2/episode_00723', '/mnt/parallel/CARLA/CARLA100_2/episode_00724', '/mnt/parallel/CARLA/CARLA100_2/episode_00725', '/mnt/parallel/CARLA/CARLA100_2/episode_00726', '/mnt/parallel/CARLA/CARLA100_2/episode_00727', '/mnt/parallel/CARLA/CARLA100_2/episode_00728', '/mnt/parallel/CARLA/CARLA100_2/episode_00729', '/mnt/parallel/CARLA/CARLA100_2/episode_00730', '/mnt/parallel/CARLA/CARLA100_2/episode_00731', '/mnt/parallel/CARLA/CARLA100_2/episode_00732', '/mnt/parallel/CARLA/CARLA100_2/episode_00733', '/mnt/parallel/CARLA/CARLA100_2/episode_00751', '/mnt/parallel/CARLA/CARLA100_2/episode_00752', '/mnt/parallel/CARLA/CARLA100_2/episode_00753', '/mnt/parallel/CARLA/CARLA100_2/episode_00754', '/mnt/parallel/CARLA/CARLA100_2/episode_00755', '/mnt/parallel/CARLA/CARLA100_2/episode_00756', '/mnt/parallel/CARLA/CARLA100_2/episode_00781', '/mnt/parallel/CARLA/CARLA100_2/episode_00782', '/mnt/parallel/CARLA/CARLA100_2/episode_00783', '/mnt/parallel/CARLA/CARLA100_2/episode_00784', '/mnt/parallel/CARLA/CARLA100_2/episode_00785', '/mnt/parallel/CARLA/CARLA100_2/episode_00786', '/mnt/parallel/CARLA/CARLA100_2/episode_00787', '/mnt/parallel/CARLA/CARLA100_2/episode_00788', '/mnt/parallel/CARLA/CARLA100_2/episode_00789', '/mnt/parallel/CARLA/CARLA100_2/episode_00790', '/mnt/parallel/CARLA/CARLA100_2/episode_00791', '/mnt/parallel/CARLA/CARLA100_2/episode_00792', '/mnt/parallel/CARLA/CARLA100_2/episode_00811', '/mnt/parallel/CARLA/CARLA100_2/episode_00812', '/mnt/parallel/CARLA/CARLA100_2/episode_00813', '/mnt/parallel/CARLA/CARLA100_2/episode_00814', '/mnt/parallel/CARLA/CARLA100_2/episode_00815', '/mnt/parallel/CARLA/CARLA100_2/episode_00816', '/mnt/parallel/CARLA/CARLA100_2/episode_00817', '/mnt/parallel/CARLA/CARLA100_2/episode_00818', '/mnt/parallel/CARLA/CARLA100_2/episode_00819', '/mnt/parallel/CARLA/CARLA100_2/episode_00820', '/mnt/parallel/CARLA/CARLA100_2/episode_00821', '/mnt/parallel/CARLA/CARLA100_2/episode_00822', '/mnt/parallel/CARLA/CARLA100_2/episode_00823', '/mnt/parallel/CARLA/CARLA100_2/episode_00824', '/mnt/parallel/CARLA/CARLA100_2/episode_00825', '/mnt/parallel/CARLA/CARLA100_2/episode_00841', '/mnt/parallel/CARLA/CARLA100_2/episode_00842', '/mnt/parallel/CARLA/CARLA100_2/episode_00843', '/mnt/parallel/CARLA/CARLA100_2/episode_00844', '/mnt/parallel/CARLA/CARLA100_2/episode_00845', '/mnt/parallel/CARLA/CARLA100_2/episode_00846', '/mnt/parallel/CARLA/CARLA100_2/episode_00847', '/mnt/parallel/CARLA/CARLA100_2/episode_00848', '/mnt/parallel/CARLA/CARLA100_2/episode_00849', '/mnt/parallel/CARLA/CARLA100_2/episode_00850', '/mnt/parallel/CARLA/CARLA100_2/episode_00851', '/mnt/parallel/CARLA/CARLA100_2/episode_00852', '/mnt/parallel/CARLA/CARLA100_2/episode_00853', '/mnt/parallel/CARLA/CARLA100_2/episode_00854', '/mnt/parallel/CARLA/CARLA100_2/episode_00855', '/mnt/parallel/CARLA/CARLA100_2/episode_00871', '/mnt/parallel/CARLA/CARLA100_2/episode_00872', '/mnt/parallel/CARLA/CARLA100_2/episode_00873', '/mnt/parallel/CARLA/CARLA100_2/episode_00874', '/mnt/parallel/CARLA/CARLA100_2/episode_00875', '/mnt/parallel/CARLA/CARLA100_2/episode_00876', '/mnt/parallel/CARLA/CARLA100_2/episode_00877', '/mnt/parallel/CARLA/CARLA100_2/episode_00901', '/mnt/parallel/CARLA/CARLA100_2/episode_00902', '/mnt/parallel/CARLA/CARLA100_2/episode_00903', '/mnt/parallel/CARLA/CARLA100_2/episode_00904', '/mnt/parallel/CARLA/CARLA100_2/episode_00905', '/mnt/parallel/CARLA/CARLA100_2/episode_00906', '/mnt/parallel/CARLA/CARLA100_2/episode_00907', '/mnt/parallel/CARLA/CARLA100_2/episode_00908', '/mnt/parallel/CARLA/CARLA100_2/episode_00909', '/mnt/parallel/CARLA/CARLA100_2/episode_00910', '/mnt/parallel/CARLA/CARLA100_2/episode_00911', '/mnt/parallel/CARLA/CARLA100_2/episode_00912', '/mnt/parallel/CARLA/CARLA100_2/episode_00913', '/mnt/parallel/CARLA/CARLA100_2/episode_00931', '/mnt/parallel/CARLA/CARLA100_2/episode_00932', '/mnt/parallel/CARLA/CARLA100_2/episode_00933', '/mnt/parallel/CARLA/CARLA100_2/episode_00934', '/mnt/parallel/CARLA/CARLA100_2/episode_00935', '/mnt/parallel/CARLA/CARLA100_2/episode_00936', '/mnt/parallel/CARLA/CARLA100_2/episode_00937', '/mnt/parallel/CARLA/CARLA100_2/episode_00938', '/mnt/parallel/CARLA/CARLA100_2/episode_00939', '/mnt/parallel/CARLA/CARLA100_2/episode_00940', '/mnt/parallel/CARLA/CARLA100_2/episode_00961', '/mnt/parallel/CARLA/CARLA100_2/episode_00962', '/mnt/parallel/CARLA/CARLA100_2/episode_00963', '/mnt/parallel/CARLA/CARLA100_2/episode_00964', '/mnt/parallel/CARLA/CARLA100_2/episode_00991', '/mnt/parallel/CARLA/CARLA100_2/episode_00992', '/mnt/parallel/CARLA/CARLA100_2/episode_00993', '/mnt/parallel/CARLA/CARLA100_2/episode_00994', '/mnt/parallel/CARLA/CARLA100_2/episode_00995', '/mnt/parallel/CARLA/CARLA100_2/episode_00996', '/mnt/parallel/CARLA/CARLA100_2/episode_00997', '/mnt/parallel/CARLA/CARLA100_2/episode_00998', '/mnt/parallel/CARLA/CARLA100_2/episode_00999', '/mnt/parallel/CARLA/CARLA100_2/episode_01000', '/mnt/parallel/CARLA/CARLA100_2/episode_01001', '/mnt/parallel/CARLA/CARLA100_2/episode_01002', '/mnt/parallel/CARLA/CARLA100_2/episode_01003', '/mnt/parallel/CARLA/CARLA100_2/episode_01021', '/mnt/parallel/CARLA/CARLA100_2/episode_01022', '/mnt/parallel/CARLA/CARLA100_2/episode_01023', '/mnt/parallel/CARLA/CARLA100_2/episode_01024', '/mnt/parallel/CARLA/CARLA100_2/episode_01025', '/mnt/parallel/CARLA/CARLA100_2/episode_01026', '/mnt/parallel/CARLA/CARLA100_2/episode_01027', '/mnt/parallel/CARLA/CARLA100_2/episode_01028', '/mnt/parallel/CARLA/CARLA100_2/episode_01029', '/mnt/parallel/CARLA/CARLA100_2/episode_01030', '/mnt/parallel/CARLA/CARLA100_2/episode_01031', '/mnt/parallel/CARLA/CARLA100_2/episode_01032', '/mnt/parallel/CARLA/CARLA100_2/episode_01033', '/mnt/parallel/CARLA/CARLA100_2/episode_01034', '/mnt/parallel/CARLA/CARLA100_2/episode_01051', '/mnt/parallel/CARLA/CARLA100_2/episode_01052', '/mnt/parallel/CARLA/CARLA100_2/episode_01053', '/mnt/parallel/CARLA/CARLA100_2/episode_01054', '/mnt/parallel/CARLA/CARLA100_2/episode_01055', '/mnt/parallel/CARLA/CARLA100_2/episode_01056', '/mnt/parallel/CARLA/CARLA100_2/episode_01057', '/mnt/parallel/CARLA/CARLA100_2/episode_01058', '/mnt/parallel/CARLA/CARLA100_2/episode_01059', '/mnt/parallel/CARLA/CARLA100_2/episode_01060', '/mnt/parallel/CARLA/CARLA100_2/episode_01061', '/mnt/parallel/CARLA/CARLA100_2/episode_01062', '/mnt/parallel/CARLA/CARLA100_2/episode_01063', '/mnt/parallel/CARLA/CARLA100_2/episode_01081', '/mnt/parallel/CARLA/CARLA100_2/episode_01082', '/mnt/parallel/CARLA/CARLA100_2/episode_01083', '/mnt/parallel/CARLA/CARLA100_2/episode_01084', '/mnt/parallel/CARLA/CARLA100_2/episode_01085', '/mnt/parallel/CARLA/CARLA100_2/episode_01086', '/mnt/parallel/CARLA/CARLA100_2/episode_01111', '/mnt/parallel/CARLA/CARLA100_2/episode_01112', '/mnt/parallel/CARLA/CARLA100_2/episode_01113', '/mnt/parallel/CARLA/CARLA100_2/episode_01114', '/mnt/parallel/CARLA/CARLA100_2/episode_01115', '/mnt/parallel/CARLA/CARLA100_2/episode_01116', '/mnt/parallel/CARLA/CARLA100_2/episode_01117', '/mnt/parallel/CARLA/CARLA100_2/episode_01118', '/mnt/parallel/CARLA/CARLA100_2/episode_01141', '/mnt/parallel/CARLA/CARLA100_2/episode_01142', '/mnt/parallel/CARLA/CARLA100_2/episode_01143', '/mnt/parallel/CARLA/CARLA100_2/episode_01144', '/mnt/parallel/CARLA/CARLA100_2/episode_01145', '/mnt/parallel/CARLA/CARLA100_2/episode_01146', '/mnt/parallel/CARLA/CARLA100_2/episode_01147', '/mnt/parallel/CARLA/CARLA100_2/episode_01148', '/mnt/parallel/CARLA/CARLA100_2/episode_01149', '/mnt/parallel/CARLA/CARLA100_2/episode_01150', '/mnt/parallel/CARLA/CARLA100_2/episode_01171', '/mnt/parallel/CARLA/CARLA100_2/episode_01172', '/mnt/parallel/CARLA/CARLA100_2/episode_01173', '/mnt/parallel/CARLA/CARLA100_2/episode_01174', '/mnt/parallel/CARLA/CARLA100_2/episode_01175', '/mnt/parallel/CARLA/CARLA100_2/episode_01176', '/mnt/parallel/CARLA/CARLA100_2/episode_01177', '/mnt/parallel/CARLA/CARLA100_2/episode_01178', '/mnt/parallel/CARLA/CARLA100_2/episode_01179', '/mnt/parallel/CARLA/CARLA100_2/episode_01201', '/mnt/parallel/CARLA/CARLA100_2/episode_01202', '/mnt/parallel/CARLA/CARLA100_2/episode_01203', '/mnt/parallel/CARLA/CARLA100_2/episode_01204', '/mnt/parallel/CARLA/CARLA100_2/episode_01205', '/mnt/parallel/CARLA/CARLA100_2/episode_01206', '/mnt/parallel/CARLA/CARLA100_2/episode_01207', '/mnt/parallel/CARLA/CARLA100_2/episode_01208', '/mnt/parallel/CARLA/CARLA100_2/episode_01209', '/mnt/parallel/CARLA/CARLA100_2/episode_01210', '/mnt/parallel/CARLA/CARLA100_2/episode_01211', '/mnt/parallel/CARLA/CARLA100_2/episode_01212', '/mnt/parallel/CARLA/CARLA100_2/episode_01231', '/mnt/parallel/CARLA/CARLA100_2/episode_01232', '/mnt/parallel/CARLA/CARLA100_2/episode_01233', '/mnt/parallel/CARLA/CARLA100_2/episode_01234', '/mnt/parallel/CARLA/CARLA100_2/episode_01235', '/mnt/parallel/CARLA/CARLA100_2/episode_01236', '/mnt/parallel/CARLA/CARLA100_2/episode_01237', '/mnt/parallel/CARLA/CARLA100_2/episode_01238', '/mnt/parallel/CARLA/CARLA100_2/episode_01239', '/mnt/parallel/CARLA/CARLA100_2/episode_01240', '/mnt/parallel/CARLA/CARLA100_2/episode_01241', '/mnt/parallel/CARLA/CARLA100_2/episode_01242', '/mnt/parallel/CARLA/CARLA100_2/episode_01261', '/mnt/parallel/CARLA/CARLA100_2/episode_01262', '/mnt/parallel/CARLA/CARLA100_2/episode_01263', '/mnt/parallel/CARLA/CARLA100_2/episode_01264', '/mnt/parallel/CARLA/CARLA100_2/episode_01265', '/mnt/parallel/CARLA/CARLA100_2/episode_01266', '/mnt/parallel/CARLA/CARLA100_2/episode_01267', '/mnt/parallel/CARLA/CARLA100_2/episode_01268', '/mnt/parallel/CARLA/CARLA100_2/episode_01269', '/mnt/parallel/CARLA/CARLA100_2/episode_01270', '/mnt/parallel/CARLA/CARLA100_2/episode_01271', '/mnt/parallel/CARLA/CARLA100_2/episode_01291', '/mnt/parallel/CARLA/CARLA100_2/episode_01292', '/mnt/parallel/CARLA/CARLA100_2/episode_01293', '/mnt/parallel/CARLA/CARLA100_2/episode_01294', '/mnt/parallel/CARLA/CARLA100_2/episode_01295', '/mnt/parallel/CARLA/CARLA100_2/episode_01296', '/mnt/parallel/CARLA/CARLA100_2/episode_01297', '/mnt/parallel/CARLA/CARLA100_2/episode_01298', '/mnt/parallel/CARLA/CARLA100_2/episode_01321', '/mnt/parallel/CARLA/CARLA100_2/episode_01322', '/mnt/parallel/CARLA/CARLA100_2/episode_01323', '/mnt/parallel/CARLA/CARLA100_2/episode_01324', '/mnt/parallel/CARLA/CARLA100_2/episode_01325', '/mnt/parallel/CARLA/CARLA100_2/episode_01326', '/mnt/parallel/CARLA/CARLA100_2/episode_01327', '/mnt/parallel/CARLA/CARLA100_2/episode_01328', '/mnt/parallel/CARLA/CARLA100_2/episode_01329', '/mnt/parallel/CARLA/CARLA100_2/episode_01330', '/mnt/parallel/CARLA/CARLA100_2/episode_01331', '/mnt/parallel/CARLA/CARLA100_2/episode_01332', '/mnt/parallel/CARLA/CARLA100_2/episode_01333', '/mnt/parallel/CARLA/CARLA100_2/episode_01351', '/mnt/parallel/CARLA/CARLA100_2/episode_01352', '/mnt/parallel/CARLA/CARLA100_2/episode_01353', '/mnt/parallel/CARLA/CARLA100_2/episode_01354', '/mnt/parallel/CARLA/CARLA100_2/episode_01355', '/mnt/parallel/CARLA/CARLA100_2/episode_01356', '/mnt/parallel/CARLA/CARLA100_2/episode_01357', '/mnt/parallel/CARLA/CARLA100_2/episode_01358', '/mnt/parallel/CARLA/CARLA100_2/episode_01359', '/mnt/parallel/CARLA/CARLA100_2/episode_01360', '/mnt/parallel/CARLA/CARLA100_2/episode_01361', '/mnt/parallel/CARLA/CARLA100_2/episode_01362', '/mnt/parallel/CARLA/CARLA100_2/episode_01363', '/mnt/parallel/CARLA/CARLA100_2/episode_01364', '/mnt/parallel/CARLA/CARLA100_2/episode_01365', '/mnt/parallel/CARLA/CARLA100_2/episode_01366', '/mnt/parallel/CARLA/CARLA100_2/episode_01367', '/mnt/parallel/CARLA/CARLA100_2/episode_01381', '/mnt/parallel/CARLA/CARLA100_2/episode_01382', '/mnt/parallel/CARLA/CARLA100_2/episode_01383', '/mnt/parallel/CARLA/CARLA100_2/episode_01384', '/mnt/parallel/CARLA/CARLA100_2/episode_01385', '/mnt/parallel/CARLA/CARLA100_2/episode_01411', '/mnt/parallel/CARLA/CARLA100_2/episode_01412', '/mnt/parallel/CARLA/CARLA100_2/episode_01413', '/mnt/parallel/CARLA/CARLA100_2/episode_01414', '/mnt/parallel/CARLA/CARLA100_2/episode_01415', '/mnt/parallel/CARLA/CARLA100_2/episode_01416', '/mnt/parallel/CARLA/CARLA100_2/episode_01417', '/mnt/parallel/CARLA/CARLA100_2/episode_01418', '/mnt/parallel/CARLA/CARLA100_2/episode_01419', '/mnt/parallel/CARLA/CARLA100_2/episode_01420', '/mnt/parallel/CARLA/CARLA100_2/episode_01421', '/mnt/parallel/CARLA/CARLA100_2/episode_01422', '/mnt/parallel/CARLA/CARLA100_2/episode_01423', '/mnt/parallel/CARLA/CARLA100_2/episode_01424']\n",
      "Episode  /mnt/parallel/CARLA/CARLA100_2/episode_00000\n",
      " Added  0.06366666666666666\n"
     ]
    },
    {
     "name": "stdout",
     "output_type": "stream",
     "text": [
      "Episode  /mnt/parallel/CARLA/CARLA100_2/episode_00001\n",
      " Added  0.05091666666666667\n",
      "Episode  /mnt/parallel/CARLA/CARLA100_2/episode_00002\n",
      " Added  0.07183333333333335\n",
      "Episode  /mnt/parallel/CARLA/CARLA100_2/episode_00003\n",
      " Added  0.06275\n",
      "Episode  /mnt/parallel/CARLA/CARLA100_2/episode_00004\n",
      " Added  0.04175\n",
      "Episode  /mnt/parallel/CARLA/CARLA100_2/episode_00005\n",
      " Added  0.06019444444444444\n",
      "Episode  /mnt/parallel/CARLA/CARLA100_2/episode_00006\n",
      " Added  0.0765\n",
      "Episode  /mnt/parallel/CARLA/CARLA100_2/episode_00007\n",
      " Added  0.04416666666666667\n",
      "Episode  /mnt/parallel/CARLA/CARLA100_2/episode_00008\n",
      " Added  0.04283333333333333\n",
      "Episode  /mnt/parallel/CARLA/CARLA100_2/episode_00010\n",
      " Added  0.06272222222222222\n",
      "Episode  /mnt/parallel/CARLA/CARLA100_2/episode_00011\n",
      " Added  0.015166666666666667\n",
      "Episode  /mnt/parallel/CARLA/CARLA100_2/episode_00012\n",
      " Added  0.04858333333333333\n",
      "Episode  /mnt/parallel/CARLA/CARLA100_2/episode_00014\n",
      " Added  0.09213888888888888\n",
      "Episode  /mnt/parallel/CARLA/CARLA100_2/episode_00015\n",
      " Added  0.010083333333333333\n",
      "Episode  /mnt/parallel/CARLA/CARLA100_2/episode_00016\n",
      " Added  0.04880555555555555\n",
      "Episode  /mnt/parallel/CARLA/CARLA100_2/episode_00017\n",
      " Added  0.03844444444444445\n",
      "Episode  /mnt/parallel/CARLA/CARLA100_2/episode_00018\n",
      " Added  0.059305555555555556\n",
      "Episode  /mnt/parallel/CARLA/CARLA100_2/episode_00020\n",
      " Added  0.06699999999999999\n",
      "Episode  /mnt/parallel/CARLA/CARLA100_2/episode_00021\n",
      " Added  0.08494444444444445\n",
      "Episode  /mnt/parallel/CARLA/CARLA100_2/episode_00022\n",
      " Added  0.03319444444444444\n",
      "Episode  /mnt/parallel/CARLA/CARLA100_2/episode_00023\n",
      " Added  0.07733333333333332\n",
      "Episode  /mnt/parallel/CARLA/CARLA100_2/episode_00024\n",
      " Added  0.015277777777777777\n",
      "Episode  /mnt/parallel/CARLA/CARLA100_2/episode_00025\n",
      " Added  0.010055555555555557\n",
      "Episode  /mnt/parallel/CARLA/CARLA100_2/episode_00026\n",
      " Added  0.04016666666666666\n",
      "Episode  /mnt/parallel/CARLA/CARLA100_2/episode_00027\n",
      " Added  0.06105555555555556\n",
      "Episode  /mnt/parallel/CARLA/CARLA100_2/episode_00028\n",
      " Added  0.035138888888888886\n",
      "Episode  /mnt/parallel/CARLA/CARLA100_2/episode_00029\n",
      " Added  0.03286111111111111\n",
      "Episode  /mnt/parallel/CARLA/CARLA100_2/episode_00030\n",
      " Added  0.06469444444444444\n",
      "Episode  /mnt/parallel/CARLA/CARLA100_2/episode_00031\n",
      " Added  0.049361111111111106\n",
      "Episode  /mnt/parallel/CARLA/CARLA100_2/episode_00033\n",
      " Added  0.07433333333333333\n",
      "Episode  /mnt/parallel/CARLA/CARLA100_2/episode_00034\n",
      " Added  0.06477777777777778\n",
      "Episode  /mnt/parallel/CARLA/CARLA100_2/episode_00035\n",
      " Added  0.06575\n",
      "Episode  /mnt/parallel/CARLA/CARLA100_2/episode_00036\n",
      " Added  0.06477777777777778\n",
      "Episode  /mnt/parallel/CARLA/CARLA100_2/episode_00037\n",
      " Added  0.051027777777777776\n",
      "Episode  /mnt/parallel/CARLA/CARLA100_2/episode_00038\n",
      " Added  0.05986111111111111\n",
      "Episode  /mnt/parallel/CARLA/CARLA100_2/episode_00039\n",
      " Added  0.04394444444444444\n",
      "Episode  /mnt/parallel/CARLA/CARLA100_2/episode_00040\n",
      " Added  0.04597222222222222\n",
      "Episode  /mnt/parallel/CARLA/CARLA100_2/episode_00041\n",
      " Added  0.03361111111111111\n",
      "Episode  /mnt/parallel/CARLA/CARLA100_2/episode_00042\n",
      " Added  0.04986111111111111\n",
      "Episode  /mnt/parallel/CARLA/CARLA100_2/episode_00044\n",
      " Added  0.02061111111111111\n",
      "Episode  /mnt/parallel/CARLA/CARLA100_2/episode_00045\n",
      " Added  0.05761111111111111\n",
      "Episode  /mnt/parallel/CARLA/CARLA100_2/episode_00046\n",
      " Added  0.05308333333333333\n",
      "Episode  /mnt/parallel/CARLA/CARLA100_2/episode_00047\n",
      " Added  0.05361111111111111\n",
      "Episode  /mnt/parallel/CARLA/CARLA100_2/episode_00048\n",
      " Added  0.05594444444444445\n",
      "Episode  /mnt/parallel/CARLA/CARLA100_2/episode_00049\n",
      " Added  0.07952777777777778\n",
      "Episode  /mnt/parallel/CARLA/CARLA100_2/episode_00050\n",
      " Added  0.013972222222222221\n",
      "Episode  /mnt/parallel/CARLA/CARLA100_2/episode_00051\n",
      " Added  0.02038888888888889\n",
      "Episode  /mnt/parallel/CARLA/CARLA100_2/episode_00052\n",
      " Added  0.04780555555555555\n",
      "Episode  /mnt/parallel/CARLA/CARLA100_2/episode_00053\n",
      " Added  0.04547222222222222\n",
      "Episode  /mnt/parallel/CARLA/CARLA100_2/episode_00054\n",
      " Added  0.041277777777777774\n",
      "Episode  /mnt/parallel/CARLA/CARLA100_2/episode_00055\n",
      " Added  0.06016666666666667\n",
      "Episode  /mnt/parallel/CARLA/CARLA100_2/episode_00056\n",
      " Added  0.019888888888888887\n",
      "Episode  /mnt/parallel/CARLA/CARLA100_2/episode_00057\n",
      " Added  0.03561111111111111\n",
      "Episode  /mnt/parallel/CARLA/CARLA100_2/episode_00058\n",
      " Added  0.04652777777777778\n",
      "Episode  /mnt/parallel/CARLA/CARLA100_2/episode_00059\n",
      " Added  0.015555555555555555\n",
      "Episode  /mnt/parallel/CARLA/CARLA100_2/episode_00060\n",
      " Added  0.06469444444444444\n",
      "Episode  /mnt/parallel/CARLA/CARLA100_2/episode_00061\n",
      " Added  0.049916666666666665\n",
      "Episode  /mnt/parallel/CARLA/CARLA100_2/episode_00062\n",
      " Added  0.060250000000000005\n",
      "Episode  /mnt/parallel/CARLA/CARLA100_2/episode_00063\n",
      " Added  0.045361111111111116\n",
      "Episode  /mnt/parallel/CARLA/CARLA100_2/episode_00064\n",
      " Added  0.04644444444444444\n",
      "Episode  /mnt/parallel/CARLA/CARLA100_2/episode_00065\n",
      " Added  0.052444444444444446\n",
      "Episode  /mnt/parallel/CARLA/CARLA100_2/episode_00066\n",
      " Added  0.06147222222222223\n",
      "Episode  /mnt/parallel/CARLA/CARLA100_2/episode_00067\n",
      " Added  0.033555555555555554\n",
      "Episode  /mnt/parallel/CARLA/CARLA100_2/episode_00068\n",
      " Added  0.034055555555555554\n",
      "Episode  /mnt/parallel/CARLA/CARLA100_2/episode_00069\n",
      " Added  0.04747222222222222\n",
      "Episode  /mnt/parallel/CARLA/CARLA100_2/episode_00070\n",
      " Added  0.041138888888888885\n",
      "Episode  /mnt/parallel/CARLA/CARLA100_2/episode_00071\n",
      " Added  0.06738888888888889\n",
      "Episode  /mnt/parallel/CARLA/CARLA100_2/episode_00072\n",
      " Added  0.07125\n",
      "Episode  /mnt/parallel/CARLA/CARLA100_2/episode_00073\n",
      " Added  0.05452777777777778\n",
      "Episode  /mnt/parallel/CARLA/CARLA100_2/episode_00074\n",
      " Added  0.06847222222222223\n",
      "Episode  /mnt/parallel/CARLA/CARLA100_2/episode_00075\n",
      " Added  0.04091666666666667\n",
      "Episode  /mnt/parallel/CARLA/CARLA100_2/episode_00076\n",
      " Added  0.07694444444444444\n",
      "Episode  /mnt/parallel/CARLA/CARLA100_2/episode_00077\n",
      " Added  0.04552777777777778\n",
      "Episode  /mnt/parallel/CARLA/CARLA100_2/episode_00078\n",
      " Added  0.08069444444444444\n",
      "Episode  /mnt/parallel/CARLA/CARLA100_2/episode_00079\n",
      " Added  0.09222222222222222\n",
      "Episode  /mnt/parallel/CARLA/CARLA100_2/episode_00080\n",
      " Added  0.030166666666666665\n",
      "Episode  /mnt/parallel/CARLA/CARLA100_2/episode_00081\n",
      " Added  0.05275\n",
      "Episode  /mnt/parallel/CARLA/CARLA100_2/episode_00082\n",
      " Added  0.019888888888888887\n",
      "Episode  /mnt/parallel/CARLA/CARLA100_2/episode_00083\n",
      " Added  0.011638888888888888\n",
      "Episode  /mnt/parallel/CARLA/CARLA100_2/episode_00084\n",
      " Added  0.028638888888888887\n",
      "Episode  /mnt/parallel/CARLA/CARLA100_2/episode_00085\n",
      " Added  0.07963888888888888\n",
      "Episode  /mnt/parallel/CARLA/CARLA100_2/episode_00086\n",
      " Added  0.029777777777777778\n",
      "Episode  /mnt/parallel/CARLA/CARLA100_2/episode_00087\n",
      " Added  0.008472222222222223\n",
      "Episode  /mnt/parallel/CARLA/CARLA100_2/episode_00088\n",
      " Added  0.04730555555555556\n",
      "Episode  /mnt/parallel/CARLA/CARLA100_2/episode_00089\n",
      " Added  0.022527777777777775\n",
      "Episode  /mnt/parallel/CARLA/CARLA100_2/episode_00090\n",
      " Added  0.06388888888888888\n",
      "Episode  /mnt/parallel/CARLA/CARLA100_2/episode_00091\n",
      " Added  0.07458333333333333\n",
      "Episode  /mnt/parallel/CARLA/CARLA100_2/episode_00092\n",
      " Added  0.08458333333333333\n",
      "Episode  /mnt/parallel/CARLA/CARLA100_2/episode_00093\n",
      " Added  0.07211111111111111\n",
      "Episode  /mnt/parallel/CARLA/CARLA100_2/episode_00094\n",
      " Added  0.0658611111111111\n",
      "Episode  /mnt/parallel/CARLA/CARLA100_2/episode_00095\n",
      " Added  0.10338888888888889\n",
      "Episode  /mnt/parallel/CARLA/CARLA100_2/episode_00096\n",
      " Added  0.06533333333333333\n",
      "Episode  /mnt/parallel/CARLA/CARLA100_2/episode_00097\n",
      " Added  0.019888888888888887\n",
      "Episode  /mnt/parallel/CARLA/CARLA100_2/episode_00098\n",
      " Added  0.050555555555555555\n",
      "Episode  /mnt/parallel/CARLA/CARLA100_2/episode_00099\n",
      " Added  0.043861111111111115\n",
      "Episode  /mnt/parallel/CARLA/CARLA100_2/episode_00100\n",
      " Added  0.04952777777777778\n",
      "Episode  /mnt/parallel/CARLA/CARLA100_2/episode_00101\n",
      " Added  0.05663888888888889\n",
      "Episode  /mnt/parallel/CARLA/CARLA100_2/episode_00102\n",
      " Added  0.07794444444444446\n",
      "Episode  /mnt/parallel/CARLA/CARLA100_2/episode_00103\n",
      " Added  0.06113888888888889\n",
      "Episode  /mnt/parallel/CARLA/CARLA100_2/episode_00104\n",
      " Added  0.06080555555555556\n",
      "Episode  /mnt/parallel/CARLA/CARLA100_2/episode_00105\n",
      " Added  0.05733333333333333\n",
      "Episode  /mnt/parallel/CARLA/CARLA100_2/episode_00106\n"
     ]
    },
    {
     "name": "stdout",
     "output_type": "stream",
     "text": [
      " Added  0.08772222222222223\n",
      "Episode  /mnt/parallel/CARLA/CARLA100_2/episode_00107\n",
      " Not checked\n",
      "Episode  /mnt/parallel/CARLA/CARLA100_2/episode_00108\n",
      " Added  0.07586111111111112\n",
      "Episode  /mnt/parallel/CARLA/CARLA100_2/episode_00109\n",
      " Not checked\n",
      "Episode  /mnt/parallel/CARLA/CARLA100_2/episode_00110\n",
      " Added  0.04427777777777778\n",
      "Episode  /mnt/parallel/CARLA/CARLA100_2/episode_00111\n",
      " Added  0.04086111111111111\n",
      "Episode  /mnt/parallel/CARLA/CARLA100_2/episode_00112\n",
      " Added  0.03375\n",
      "Episode  /mnt/parallel/CARLA/CARLA100_2/episode_00113\n",
      " Added  0.04847222222222222\n",
      "Episode  /mnt/parallel/CARLA/CARLA100_2/episode_00114\n",
      " Added  0.03875\n",
      "Episode  /mnt/parallel/CARLA/CARLA100_2/episode_00115\n",
      " Added  0.03719444444444445\n",
      "Episode  /mnt/parallel/CARLA/CARLA100_2/episode_00116\n",
      " Added  0.059027777777777776\n",
      "Episode  /mnt/parallel/CARLA/CARLA100_2/episode_00120\n",
      " Not checked\n",
      "Episode  /mnt/parallel/CARLA/CARLA100_2/episode_00121\n",
      " Not checked\n",
      "Episode  /mnt/parallel/CARLA/CARLA100_2/episode_00122\n",
      " Added  0.05391666666666667\n",
      "Episode  /mnt/parallel/CARLA/CARLA100_2/episode_00123\n",
      " Added  0.07902777777777778\n",
      "Episode  /mnt/parallel/CARLA/CARLA100_2/episode_00124\n",
      " Added  0.048527777777777774\n",
      "Episode  /mnt/parallel/CARLA/CARLA100_2/episode_00125\n",
      " Added  0.019888888888888887\n",
      "Episode  /mnt/parallel/CARLA/CARLA100_2/episode_00126\n",
      " Not checked\n",
      "Episode  /mnt/parallel/CARLA/CARLA100_2/episode_00127\n",
      " Added  0.05358333333333334\n",
      "Episode  /mnt/parallel/CARLA/CARLA100_2/episode_00128\n",
      " Added  0.05025\n",
      "Episode  /mnt/parallel/CARLA/CARLA100_2/episode_00129\n",
      " Added  0.059000000000000004\n",
      "Episode  /mnt/parallel/CARLA/CARLA100_2/episode_00130\n",
      " Added  0.08563888888888889\n",
      "Episode  /mnt/parallel/CARLA/CARLA100_2/episode_00131\n",
      " Not checked\n",
      "Episode  /mnt/parallel/CARLA/CARLA100_2/episode_00132\n",
      " Not checked\n",
      "Episode  /mnt/parallel/CARLA/CARLA100_2/episode_00133\n",
      " Added  0.05894444444444444\n",
      "Episode  /mnt/parallel/CARLA/CARLA100_2/episode_00134\n",
      " Not checked\n",
      "Episode  /mnt/parallel/CARLA/CARLA100_2/episode_00135\n",
      " Added  0.042111111111111106\n",
      "Episode  /mnt/parallel/CARLA/CARLA100_2/episode_00136\n",
      " Added  0.03888888888888889\n",
      "Episode  /mnt/parallel/CARLA/CARLA100_2/episode_00137\n",
      " Not checked\n",
      "Episode  /mnt/parallel/CARLA/CARLA100_2/episode_00138\n",
      " Added  0.024027777777777776\n",
      "Episode  /mnt/parallel/CARLA/CARLA100_2/episode_00139\n",
      " Not checked\n",
      "Episode  /mnt/parallel/CARLA/CARLA100_2/episode_00140\n",
      " Not checked\n",
      "Episode  /mnt/parallel/CARLA/CARLA100_2/episode_00141\n",
      " Not checked\n",
      "Episode  /mnt/parallel/CARLA/CARLA100_2/episode_00142\n",
      " Added  0.03738888888888889\n",
      "Episode  /mnt/parallel/CARLA/CARLA100_2/episode_00143\n",
      " Added  0.02825\n",
      "Episode  /mnt/parallel/CARLA/CARLA100_2/episode_00144\n",
      " Added  0.0675\n",
      "Episode  /mnt/parallel/CARLA/CARLA100_2/episode_00145\n",
      " Added  0.049166666666666664\n",
      "Episode  /mnt/parallel/CARLA/CARLA100_2/episode_00146\n",
      " Added  0.008333333333333333\n",
      "Episode  /mnt/parallel/CARLA/CARLA100_2/episode_00147\n",
      " Added  0.041138888888888885\n",
      "Episode  /mnt/parallel/CARLA/CARLA100_2/episode_00150\n",
      " Not checked\n",
      "Episode  /mnt/parallel/CARLA/CARLA100_2/episode_00151\n",
      " Not checked\n",
      "Episode  /mnt/parallel/CARLA/CARLA100_2/episode_00152\n",
      " Not checked\n",
      "Episode  /mnt/parallel/CARLA/CARLA100_2/episode_00153\n",
      " Not checked\n",
      "Episode  /mnt/parallel/CARLA/CARLA100_2/episode_00154\n",
      " Not checked\n",
      "Episode  /mnt/parallel/CARLA/CARLA100_2/episode_00155\n",
      " Added  0.07047222222222221\n",
      "Episode  /mnt/parallel/CARLA/CARLA100_2/episode_00156\n",
      " Added  0.03158333333333333\n",
      "Episode  /mnt/parallel/CARLA/CARLA100_2/episode_00157\n",
      " Added  0.026305555555555558\n",
      "Episode  /mnt/parallel/CARLA/CARLA100_2/episode_00180\n",
      " Not checked\n",
      "Episode  /mnt/parallel/CARLA/CARLA100_2/episode_00181\n",
      " Added  0.07361111111111111\n",
      "Episode  /mnt/parallel/CARLA/CARLA100_2/episode_00182\n",
      " Not checked\n",
      "Episode  /mnt/parallel/CARLA/CARLA100_2/episode_00183\n",
      " Not checked\n",
      "Episode  /mnt/parallel/CARLA/CARLA100_2/episode_00184\n",
      " Not checked\n",
      "Episode  /mnt/parallel/CARLA/CARLA100_2/episode_00185\n",
      " Added  0.00811111111111111\n",
      "Episode  /mnt/parallel/CARLA/CARLA100_2/episode_00186\n",
      " Added  0.021777777777777778\n",
      "Episode  /mnt/parallel/CARLA/CARLA100_2/episode_00187\n",
      " Added  0.051027777777777776\n",
      "Episode  /mnt/parallel/CARLA/CARLA100_2/episode_00188\n",
      " Added  0.058694444444444445\n",
      "Episode  /mnt/parallel/CARLA/CARLA100_2/episode_00189\n",
      " Added  0.0485\n",
      "Episode  /mnt/parallel/CARLA/CARLA100_2/episode_00190\n",
      " Added  0.07905555555555556\n",
      "Episode  /mnt/parallel/CARLA/CARLA100_2/episode_00191\n",
      " Added  0.03333333333333333\n",
      "Episode  /mnt/parallel/CARLA/CARLA100_2/episode_00192\n",
      " Added  0.041277777777777774\n",
      "Episode  /mnt/parallel/CARLA/CARLA100_2/episode_00193\n",
      " Added  0.05216666666666667\n",
      "Episode  /mnt/parallel/CARLA/CARLA100_2/episode_00194\n",
      " Added  0.03980555555555556\n",
      "Episode  /mnt/parallel/CARLA/CARLA100_2/episode_00195\n",
      " Added  0.05547222222222222\n",
      "Episode  /mnt/parallel/CARLA/CARLA100_2/episode_00196\n",
      " Added  0.035972222222222225\n",
      "Episode  /mnt/parallel/CARLA/CARLA100_2/episode_00197\n",
      " Added  0.03577777777777778\n",
      "Episode  /mnt/parallel/CARLA/CARLA100_2/episode_00198\n",
      " Added  0.03891666666666666\n",
      "Episode  /mnt/parallel/CARLA/CARLA100_2/episode_00199\n",
      " Added  0.014\n",
      "Episode  /mnt/parallel/CARLA/CARLA100_2/episode_00200\n",
      " Added  0.04486111111111111\n",
      "Episode  /mnt/parallel/CARLA/CARLA100_2/episode_00201\n",
      " Added  0.05363888888888889\n",
      "Episode  /mnt/parallel/CARLA/CARLA100_2/episode_00202\n",
      " Added  0.06480555555555556\n",
      "Episode  /mnt/parallel/CARLA/CARLA100_2/episode_00203\n",
      " Added  0.04133333333333333\n",
      "Episode  /mnt/parallel/CARLA/CARLA100_2/episode_00204\n",
      " Added  0.03586111111111111\n",
      "Episode  /mnt/parallel/CARLA/CARLA100_2/episode_00205\n",
      " Added  0.04447222222222222\n",
      "Episode  /mnt/parallel/CARLA/CARLA100_2/episode_00206\n",
      " Added  0.044250000000000005\n",
      "Episode  /mnt/parallel/CARLA/CARLA100_2/episode_00207\n",
      " Added  0.019888888888888887\n",
      "Episode  /mnt/parallel/CARLA/CARLA100_2/episode_00208\n",
      " Added  0.04986111111111111\n",
      "Episode  /mnt/parallel/CARLA/CARLA100_2/episode_00209\n",
      " Added  0.04708333333333333\n",
      "Episode  /mnt/parallel/CARLA/CARLA100_2/episode_00210\n",
      " Not checked\n",
      "Episode  /mnt/parallel/CARLA/CARLA100_2/episode_00211\n",
      " Not checked\n",
      "Episode  /mnt/parallel/CARLA/CARLA100_2/episode_00212\n",
      " Added  0.08963888888888888\n",
      "Episode  /mnt/parallel/CARLA/CARLA100_2/episode_00213\n",
      " Not checked\n",
      "Episode  /mnt/parallel/CARLA/CARLA100_2/episode_00214\n",
      " Added  0.060361111111111115\n",
      "Episode  /mnt/parallel/CARLA/CARLA100_2/episode_00215\n",
      " Not checked\n",
      "Episode  /mnt/parallel/CARLA/CARLA100_2/episode_00216\n",
      " Added  0.06761111111111111\n",
      "Episode  /mnt/parallel/CARLA/CARLA100_2/episode_00217\n",
      " Added  0.06047222222222222\n",
      "Episode  /mnt/parallel/CARLA/CARLA100_2/episode_00218\n",
      " Not checked\n",
      "Episode  /mnt/parallel/CARLA/CARLA100_2/episode_00219\n",
      " Added  0.06075\n",
      "Episode  /mnt/parallel/CARLA/CARLA100_2/episode_00220\n",
      " Added  0.04519444444444444\n",
      "Episode  /mnt/parallel/CARLA/CARLA100_2/episode_00221\n",
      " Not checked\n",
      "Episode  /mnt/parallel/CARLA/CARLA100_2/episode_00222\n",
      " Added  0.04719444444444445\n",
      "Episode  /mnt/parallel/CARLA/CARLA100_2/episode_00223\n",
      " Added  0.06830555555555556\n",
      "Episode  /mnt/parallel/CARLA/CARLA100_2/episode_00224\n",
      " Added  0.044194444444444446\n",
      "Episode  /mnt/parallel/CARLA/CARLA100_2/episode_00225\n",
      " Added  0.043000000000000003\n",
      "Episode  /mnt/parallel/CARLA/CARLA100_2/episode_00226\n",
      " Added  0.06047222222222222\n",
      "Episode  /mnt/parallel/CARLA/CARLA100_2/episode_00227\n",
      " Added  0.04808333333333333\n",
      "Episode  /mnt/parallel/CARLA/CARLA100_2/episode_00228\n",
      " Added  0.04736111111111111\n",
      "Episode  /mnt/parallel/CARLA/CARLA100_2/episode_00229\n",
      " Added  0.059694444444444446\n",
      "Episode  /mnt/parallel/CARLA/CARLA100_2/episode_00230\n",
      " Added  0.06152777777777778\n",
      "Episode  /mnt/parallel/CARLA/CARLA100_2/episode_00231\n",
      " Added  0.06269444444444444\n",
      "Episode  /mnt/parallel/CARLA/CARLA100_2/episode_00232\n",
      " Added  0.03755555555555555\n",
      "Episode  /mnt/parallel/CARLA/CARLA100_2/episode_00233\n",
      " Added  0.05763888888888889\n",
      "Episode  /mnt/parallel/CARLA/CARLA100_2/episode_00234\n",
      " Not checked\n",
      "Episode  /mnt/parallel/CARLA/CARLA100_2/episode_00235\n",
      " Added  0.035638888888888894\n",
      "Episode  /mnt/parallel/CARLA/CARLA100_2/episode_00236\n",
      " Added  0.048388888888888884\n",
      "Episode  /mnt/parallel/CARLA/CARLA100_2/episode_00237\n",
      " Added  0.006388888888888889\n",
      "Episode  /mnt/parallel/CARLA/CARLA100_2/episode_00240\n",
      " Added  0.07547222222222222\n",
      "Episode  /mnt/parallel/CARLA/CARLA100_2/episode_00241\n",
      " Added  0.04447222222222222\n"
     ]
    },
    {
     "name": "stdout",
     "output_type": "stream",
     "text": [
      "Episode  /mnt/parallel/CARLA/CARLA100_2/episode_00242\n",
      " Added  0.07747222222222222\n",
      "Episode  /mnt/parallel/CARLA/CARLA100_2/episode_00243\n",
      " Added  0.03744444444444445\n",
      "Episode  /mnt/parallel/CARLA/CARLA100_2/episode_00244\n",
      " Added  0.07652777777777778\n",
      "Episode  /mnt/parallel/CARLA/CARLA100_2/episode_00245\n",
      " Added  0.04325\n",
      "Episode  /mnt/parallel/CARLA/CARLA100_2/episode_00246\n",
      " Not checked\n",
      "Episode  /mnt/parallel/CARLA/CARLA100_2/episode_00247\n",
      " Not checked\n",
      "Episode  /mnt/parallel/CARLA/CARLA100_2/episode_00248\n",
      " Added  0.061\n",
      "Episode  /mnt/parallel/CARLA/CARLA100_2/episode_00249\n",
      " Not checked\n",
      "Episode  /mnt/parallel/CARLA/CARLA100_2/episode_00251\n",
      " Added  0.019888888888888887\n",
      "Episode  /mnt/parallel/CARLA/CARLA100_2/episode_00252\n",
      " Added  0.05302777777777778\n",
      "Episode  /mnt/parallel/CARLA/CARLA100_2/episode_00253\n",
      " Added  0.04986111111111111\n",
      "Episode  /mnt/parallel/CARLA/CARLA100_2/episode_00254\n",
      " Added  0.01\n",
      "Episode  /mnt/parallel/CARLA/CARLA100_2/episode_00255\n",
      " Added  0.05827777777777778\n",
      "Episode  /mnt/parallel/CARLA/CARLA100_2/episode_00256\n",
      " Added  0.050583333333333334\n",
      "Episode  /mnt/parallel/CARLA/CARLA100_2/episode_00257\n",
      " Added  0.019888888888888887\n",
      "Episode  /mnt/parallel/CARLA/CARLA100_2/episode_00258\n",
      " Added  0.0535\n",
      "Episode  /mnt/parallel/CARLA/CARLA100_2/episode_00259\n",
      " Added  0.07955555555555555\n",
      "Episode  /mnt/parallel/CARLA/CARLA100_2/episode_00260\n",
      " Added  0.03838888888888889\n",
      "Episode  /mnt/parallel/CARLA/CARLA100_2/episode_00261\n",
      " Added  0.06216666666666667\n",
      "Episode  /mnt/parallel/CARLA/CARLA100_2/episode_00262\n",
      " Added  0.05236111111111111\n",
      "Episode  /mnt/parallel/CARLA/CARLA100_2/episode_00263\n",
      " Added  0.05555555555555555\n",
      "Episode  /mnt/parallel/CARLA/CARLA100_2/episode_00264\n",
      " Added  0.07491666666666666\n",
      "Episode  /mnt/parallel/CARLA/CARLA100_2/episode_00265\n",
      " Added  0.013972222222222221\n",
      "Episode  /mnt/parallel/CARLA/CARLA100_2/episode_00266\n",
      " Added  0.043305555555555555\n",
      "Episode  /mnt/parallel/CARLA/CARLA100_2/episode_00270\n",
      " Added  0.07258333333333333\n",
      "Episode  /mnt/parallel/CARLA/CARLA100_2/episode_00271\n",
      " LOADED  10.063972222222224  This hours\n",
      "\n"
     ]
    }
   ],
   "source": [
    "dataset = CoILDataset('/mnt/parallel/CARLA/CARLA100_2/', None)"
   ]
  },
  {
   "cell_type": "code",
   "execution_count": null,
   "metadata": {},
   "outputs": [
    {
     "name": "stdout",
     "output_type": "stream",
     "text": [
      "5962\r"
     ]
    }
   ],
   "source": [
    "for i in range(10000):\n",
    "    print(i, end='\\r')\n",
    "    dataset[0]"
   ]
  },
  {
   "cell_type": "code",
   "execution_count": 5,
   "metadata": {},
   "outputs": [
    {
     "name": "stderr",
     "output_type": "stream",
     "text": [
      "1086303it [00:01, 688890.36it/s]\n"
     ]
    }
   ],
   "source": [
    "Steer = np.zeros(len(dataset.measurements))\n",
    "Throttle = np.zeros(len(dataset.measurements))\n",
    "Brake = np.zeros(len(dataset.measurements))\n",
    "Speed_module = np.zeros(len(dataset.measurements))\n",
    "Directions = np.zeros(len(dataset.measurements))\n",
    "\n",
    "for i, M in tqdm(enumerate(dataset.measurements)):\n",
    "    Steer[i] = M['steer']\n",
    "    Throttle[i] = M['throttle']\n",
    "    Brake[i] = M['brake']\n",
    "    Speed_module[i] = M['speed_module']\n",
    "    Directions[i] = M['directions']"
   ]
  },
  {
   "cell_type": "code",
   "execution_count": 19,
   "metadata": {},
   "outputs": [],
   "source": [
    "np.save('10hours_train_preload', [dataset.measurements, dataset.sensor_data_names])"
   ]
  },
  {
   "cell_type": "code",
   "execution_count": 7,
   "metadata": {},
   "outputs": [
    {
     "name": "stdout",
     "output_type": "stream",
     "text": [
      "-0.0016773680225014686 0.2697957992553711\n"
     ]
    },
    {
     "data": {
      "image/png": "[encoded data removed]",
      "text/plain": [
       "<Figure size 432x288 with 1 Axes>"
      ]
     },
     "metadata": {},
     "output_type": "display_data"
    }
   ],
   "source": [
    "_ = plt.hist(Speed_module)\n",
    "print(Speed_module.min(), Speed_module.max())"
   ]
  },
  {
   "cell_type": "code",
   "execution_count": 8,
   "metadata": {},
   "outputs": [
    {
     "name": "stdout",
     "output_type": "stream",
     "text": [
      "-1.0 1.0\n"
     ]
    },
    {
     "data": {
      "image/png": "[encoded data removed]",
      "text/plain": [
       "<Figure size 432x288 with 1 Axes>"
      ]
     },
     "metadata": {},
     "output_type": "display_data"
    }
   ],
   "source": [
    "_ = plt.hist(Steer)\n",
    "print(Steer.min(), Steer.max())"
   ]
  },
  {
   "cell_type": "code",
   "execution_count": 9,
   "metadata": {},
   "outputs": [
    {
     "name": "stdout",
     "output_type": "stream",
     "text": [
      "0.0 0.75\n"
     ]
    },
    {
     "data": {
      "image/png": "[encoded data removed]",
      "text/plain": [
       "<Figure size 432x288 with 1 Axes>"
      ]
     },
     "metadata": {},
     "output_type": "display_data"
    }
   ],
   "source": [
    "_ = plt.hist(Throttle)\n",
    "print(Throttle.min(), Throttle.max())"
   ]
  },
  {
   "cell_type": "code",
   "execution_count": 10,
   "metadata": {},
   "outputs": [
    {
     "name": "stdout",
     "output_type": "stream",
     "text": [
      "0.0 1.0\n"
     ]
    },
    {
     "data": {
      "image/png": "[encoded data removed]",
      "text/plain": [
       "<Figure size 432x288 with 1 Axes>"
      ]
     },
     "metadata": {},
     "output_type": "display_data"
    }
   ],
   "source": [
    "_ = plt.hist(Brake)\n",
    "print(Brake.min(), Brake.max())"
   ]
  },
  {
   "cell_type": "code",
   "execution_count": 11,
   "metadata": {
    "scrolled": true
   },
   "outputs": [
    {
     "data": {
      "image/png": "[encoded data removed]",
      "text/plain": [
       "<Figure size 432x288 with 1 Axes>"
      ]
     },
     "metadata": {},
     "output_type": "display_data"
    }
   ],
   "source": [
    "_ = plt.hist(Directions)"
   ]
  },
  {
   "cell_type": "code",
   "execution_count": 125,
   "metadata": {},
   "outputs": [],
   "source": [
    "weird = np.where(Speed_module<0.)[0]"
   ]
  },
  {
   "cell_type": "code",
   "execution_count": 126,
   "metadata": {},
   "outputs": [
    {
     "data": {
      "text/plain": [
       "<Figure size 720x720 with 0 Axes>"
      ]
     },
     "metadata": {},
     "output_type": "display_data"
    }
   ],
   "source": [
    "fig = figure(figsize=(10, 10))"
   ]
  },
  {
   "cell_type": "code",
   "execution_count": 127,
   "metadata": {},
   "outputs": [
    {
     "data": {
      "application/vnd.jupyter.widget-view+json": {
       "model_id": "7b09fc384220437d8b254822205aac53",
       "version_major": 2,
       "version_minor": 0
      },
      "text/plain": [
       "interactive(children=(IntSlider(value=127190, description='index', max=254381), Output()), _dom_classes=('widg…"
      ]
     },
     "metadata": {},
     "output_type": "display_data"
    }
   ],
   "source": [
    "def make_image(index):\n",
    "    idx = weird[index]\n",
    "    img = dataset.sensor_data_names[idx]\n",
    "    title(img)\n",
    "    img = imread(img)\n",
    "    imshow(img) \n",
    "    return fig\n",
    "\n",
    "_ = interact(make_image, index=(0, weird.shape[0]-1))\n"
   ]
  },
  {
   "cell_type": "code",
   "execution_count": 12,
   "metadata": {},
   "outputs": [],
   "source": [
    "# define ranges\n",
    "import sys\n",
    "def full_split(dataset):\n",
    "    \n",
    "    S = np.zeros(len(dataset.measurements))\n",
    "    T = np.zeros(len(dataset.measurements))\n",
    "    B = np.zeros(len(dataset.measurements))\n",
    "    V = np.zeros(len(dataset.measurements))\n",
    "    C = np.zeros(len(dataset.measurements))\n",
    "\n",
    "    for i, M in tqdm(enumerate(dataset.measurements)):\n",
    "        S[i] = M['steer']\n",
    "        T[i] = M['throttle']\n",
    "        B[i] = M['brake']\n",
    "        V[i] = M['speed_module']\n",
    "        C[i] = M['directions']\n",
    "    \n",
    "    control = [[0, 2, 5], [3], [4]]\n",
    "    steering = [-1.1, -0.9, -0.8, -0.6, 0, 0.6, 0.8, 0.9, 1.1]\n",
    "    throttle = [0., 0.1, 0.3, 0.5, 1.1]\n",
    "    brake = [0., 0.1, 0.3, 0.5, 1.1]\n",
    "    speed = [-1., 2., 4., 6., 8., 11.]\n",
    "    keys = list()\n",
    "    \n",
    "    counter = 0\n",
    "    for c in range(3):  # control\n",
    "        for s in range(len(steering)-1):  # steer\n",
    "            for t in range(len(throttle)-1): # throttle\n",
    "                for b in range(len(brake)-1): # brake\n",
    "                    for v in range(len(speed)-1): # speed\n",
    "                        true_c = [False, ] * C.shape[0]\n",
    "                        for vals in control[c]:\n",
    "                            true_c = np.logical_or(true_c, C==vals)\n",
    "                        # true_c = [m in control[c] for m in M[D[b'control']]]\n",
    "                        true_s = np.logical_and(S>=steering[s], S<steering[s+1])\n",
    "                        true_t = np.logical_and(T>=throttle[t], T<throttle[t+1])\n",
    "                        true_b = np.logical_and(B>=brake[b], B<brake[b+1])\n",
    "                        true_v = np.logical_and(V>=speed[v], V<speed[v+1])\n",
    "                        k1 = np.logical_and(true_c, true_s)\n",
    "                        k2 = np.logical_and(true_t, true_b)\n",
    "                        k3 = np.logical_and(k1, k2)\n",
    "                        k = np.logical_and(k3, true_v)\n",
    "                        k = np.where(k)[0]\n",
    "                        counter += 1\n",
    "                        # bar.next()\n",
    "                        # sys.stdout.write(\"{} \".format(counter))\n",
    "                        # sys.stdout.flush()\n",
    "                        print(\"{} | speed: {} | control {} | throttle {} | brake {} | steer {}\".format(\n",
    "                            counter, sum(true_v), sum(true_c), sum(true_t), sum(true_b), sum(true_s)), end=\"\\r\")\n",
    "                        # keys.append(k)\n",
    "                        if len(k) > 0:\n",
    "                            this_d = {'keys': k, 'control': c, 'steer': s, 'throttle': t, 'brake': b, 'speed': v}\n",
    "                            keys.append(this_d)\n",
    "                        # print(counter)\n",
    "    # keys.append({'keys': list(np.arange(M.shape[1])), 'control': np.inf, 'steer': np.inf, 'throttle': np.inf, 'brake': np.inf, 'speed': np.inf})\n",
    "    print('filter length: {}'.format(len(keys)))\n",
    "    return keys\n",
    "# bar.finish()"
   ]
  },
  {
   "cell_type": "code",
   "execution_count": 13,
   "metadata": {
    "scrolled": true
   },
   "outputs": [
    {
     "name": "stderr",
     "output_type": "stream",
     "text": [
      "1086303it [00:01, 696292.87it/s]\n"
     ]
    },
    {
     "name": "stdout",
     "output_type": "stream",
     "text": [
      "filter length: 112control 277134 | throttle 432750 | brake 32964 | steer 24eer 2449488\n"
     ]
    }
   ],
   "source": [
    "keys = full_split(dataset)"
   ]
  },
  {
   "cell_type": "code",
   "execution_count": 14,
   "metadata": {},
   "outputs": [
    {
     "name": "stdout",
     "output_type": "stream",
     "text": [
      "1086303\n"
     ]
    }
   ],
   "source": [
    "a = 0\n",
    "for k in keys:\n",
    "    a += len(k['keys'])\n",
    "    \n",
    "print(a)"
   ]
  },
  {
   "cell_type": "code",
   "execution_count": 15,
   "metadata": {},
   "outputs": [],
   "source": [
    "true_s = np.logical_and(Steer>=.9, Steer<1)"
   ]
  },
  {
   "cell_type": "code",
   "execution_count": 16,
   "metadata": {},
   "outputs": [],
   "source": [
    "np.save('10hours_split_keys', keys)"
   ]
  },
  {
   "cell_type": "code",
   "execution_count": 17,
   "metadata": {},
   "outputs": [
    {
     "data": {
      "text/plain": [
       "1086303"
      ]
     },
     "execution_count": 17,
     "metadata": {},
     "output_type": "execute_result"
    }
   ],
   "source": [
    "Steer.shape[0]"
   ]
  },
  {
   "cell_type": "code",
   "execution_count": 18,
   "metadata": {},
   "outputs": [
    {
     "name": "stdout",
     "output_type": "stream",
     "text": [
      "112\n"
     ]
    }
   ],
   "source": [
    "print(len(keys))"
   ]
  },
  {
   "cell_type": "code",
   "execution_count": null,
   "metadata": {},
   "outputs": [],
   "source": []
  }
 ],
 "metadata": {
  "kernelspec": {
   "display_name": "Python 3",
   "language": "python",
   "name": "python3"
  },
  "language_info": {
   "codemirror_mode": {
    "name": "ipython",
    "version": 3
   },
   "file_extension": ".py",
   "mimetype": "text/x-python",
   "name": "python",
   "nbconvert_exporter": "python",
   "pygments_lexer": "ipython3",
   "version": "3.6.5"
  }
 },
 "nbformat": 4,
 "nbformat_minor": 2
}
